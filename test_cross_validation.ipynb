{
 "cells": [
  {
   "cell_type": "code",
   "execution_count": 1,
   "metadata": {},
   "outputs": [],
   "source": [
    "import pandas as pd\n",
    "import numpy as np\n",
    "import re # not really used atm\n",
    "from datetime import datetime\n",
    "from matplotlib import pyplot as plt\n",
    "import matplotlib.gridspec as gridspec\n",
    "import seaborn as sns"
   ]
  },
  {
   "cell_type": "code",
   "execution_count": 2,
   "metadata": {},
   "outputs": [
    {
     "name": "stderr",
     "output_type": "stream",
     "text": [
      "Using TensorFlow backend.\n"
     ]
    }
   ],
   "source": [
    "from sklearn.preprocessing import StandardScaler # to scale data\n",
    "from sklearn.model_selection import train_test_split\n",
    "from sklearn.metrics import roc_curve,roc_auc_score,accuracy_score,auc\n",
    "from sklearn.model_selection import StratifiedKFold # for cross validation\n",
    "\n",
    "# NN model\n",
    "import keras\n",
    "from keras.models import Sequential\n",
    "from keras.models import load_model\n",
    "from keras.layers import Dense\n",
    "from keras.optimizers import SGD #test keras\n"
   ]
  },
  {
   "cell_type": "code",
   "execution_count": 3,
   "metadata": {},
   "outputs": [],
   "source": [
    "pd.set_option('display.max_rows', 50)\n",
    "pd.set_option('display.max_columns', 60)\n",
    "pd.set_option('display.width', None)\n",
    "pd.set_option('display.max_colwidth', -1)"
   ]
  },
  {
   "cell_type": "code",
   "execution_count": 4,
   "metadata": {},
   "outputs": [],
   "source": [
    "def check_null(df):\n",
    "    print('\\ncheck null values \\n')\n",
    "    print('shape df: ', df.shape, '\\n')\n",
    "    ok_columns = [col for col in df if df[col].isna().sum() == 0]\n",
    "    print('ok columns: ', ok_columns, '\\n')\n",
    "    for col in df:\n",
    "        if df[col].isna().sum() >0:\n",
    "            print(col, ':', df[col].isna().sum())"
   ]
  },
  {
   "cell_type": "code",
   "execution_count": 5,
   "metadata": {},
   "outputs": [],
   "source": [
    "df_original = pd.read_csv('../input/output.csv')"
   ]
  },
  {
   "cell_type": "code",
   "execution_count": 6,
   "metadata": {},
   "outputs": [
    {
     "data": {
      "text/html": [
       "<div>\n",
       "<style scoped>\n",
       "    .dataframe tbody tr th:only-of-type {\n",
       "        vertical-align: middle;\n",
       "    }\n",
       "\n",
       "    .dataframe tbody tr th {\n",
       "        vertical-align: top;\n",
       "    }\n",
       "\n",
       "    .dataframe thead th {\n",
       "        text-align: right;\n",
       "    }\n",
       "</style>\n",
       "<table border=\"1\" class=\"dataframe\">\n",
       "  <thead>\n",
       "    <tr style=\"text-align: right;\">\n",
       "      <th></th>\n",
       "      <th>name</th>\n",
       "      <th>flav</th>\n",
       "      <th>truth_match</th>\n",
       "      <th>quark_match</th>\n",
       "      <th>ele_match</th>\n",
       "      <th>PU_frac</th>\n",
       "      <th>jet_pt</th>\n",
       "      <th>jet_eta</th>\n",
       "      <th>n_trk</th>\n",
       "      <th>ValZ0_0</th>\n",
       "      <th>SigZ0_0</th>\n",
       "      <th>ValD0_0</th>\n",
       "      <th>SigD0_0</th>\n",
       "      <th>IP3D_trk_pb_0</th>\n",
       "      <th>IP3D_trk_pu_0</th>\n",
       "      <th>IP3D_trk_pc_0</th>\n",
       "      <th>pt_trk_0</th>\n",
       "      <th>has_time_0</th>\n",
       "      <th>time_0</th>\n",
       "      <th>nhits_0</th>\n",
       "      <th>has_time_truth_0</th>\n",
       "      <th>time_truth_0</th>\n",
       "      <th>nhits_truth_0</th>\n",
       "      <th>ValZ0_1</th>\n",
       "      <th>SigZ0_1</th>\n",
       "      <th>ValD0_1</th>\n",
       "      <th>SigD0_1</th>\n",
       "      <th>IP3D_trk_pb_1</th>\n",
       "      <th>IP3D_trk_pu_1</th>\n",
       "      <th>IP3D_trk_pc_1</th>\n",
       "      <th>...</th>\n",
       "      <th>ValZ0_24</th>\n",
       "      <th>SigZ0_24</th>\n",
       "      <th>ValD0_24</th>\n",
       "      <th>SigD0_24</th>\n",
       "      <th>IP3D_trk_pb_24</th>\n",
       "      <th>IP3D_trk_pu_24</th>\n",
       "      <th>IP3D_trk_pc_24</th>\n",
       "      <th>pt_trk_24</th>\n",
       "      <th>has_time_24</th>\n",
       "      <th>time_24</th>\n",
       "      <th>nhits_24</th>\n",
       "      <th>has_time_truth_24</th>\n",
       "      <th>time_truth_24</th>\n",
       "      <th>nhits_truth_24</th>\n",
       "      <th>IP3Dw</th>\n",
       "      <th>SV1w</th>\n",
       "      <th>JFw</th>\n",
       "      <th>JFCombNNw</th>\n",
       "      <th>Mv2w</th>\n",
       "      <th>Mv1w</th>\n",
       "      <th>IP3DPlusSV1w</th>\n",
       "      <th>has_t0</th>\n",
       "      <th>t0</th>\n",
       "      <th>sigma_t0</th>\n",
       "      <th>has_t0_alex</th>\n",
       "      <th>t0_alex</th>\n",
       "      <th>sigma_t0_alex</th>\n",
       "      <th>has_t0_alex_truth</th>\n",
       "      <th>t0_alex_truth</th>\n",
       "      <th>sigma_t0_alex_truth</th>\n",
       "    </tr>\n",
       "  </thead>\n",
       "  <tbody>\n",
       "    <tr>\n",
       "      <td>0</td>\n",
       "      <td>chiara</td>\n",
       "      <td>5</td>\n",
       "      <td>1</td>\n",
       "      <td>1</td>\n",
       "      <td>0</td>\n",
       "      <td>0</td>\n",
       "      <td>83.3035</td>\n",
       "      <td>2.79517</td>\n",
       "      <td>5</td>\n",
       "      <td>0.462290</td>\n",
       "      <td>39.74930</td>\n",
       "      <td>0.283950</td>\n",
       "      <td>39.74930</td>\n",
       "      <td>0.772943</td>\n",
       "      <td>0.053444</td>\n",
       "      <td>0.173613</td>\n",
       "      <td>22.9957</td>\n",
       "      <td>1</td>\n",
       "      <td>0.042305</td>\n",
       "      <td>2</td>\n",
       "      <td>1</td>\n",
       "      <td>0.041971</td>\n",
       "      <td>2</td>\n",
       "      <td>-0.218200</td>\n",
       "      <td>-15.05000</td>\n",
       "      <td>-0.107653</td>\n",
       "      <td>-15.05000</td>\n",
       "      <td>0.445546</td>\n",
       "      <td>0.192721</td>\n",
       "      <td>0.361732</td>\n",
       "      <td>...</td>\n",
       "      <td>0.0</td>\n",
       "      <td>0.0</td>\n",
       "      <td>0.0</td>\n",
       "      <td>0.0</td>\n",
       "      <td>0.0</td>\n",
       "      <td>0.0</td>\n",
       "      <td>0.0</td>\n",
       "      <td>0.0</td>\n",
       "      <td>0</td>\n",
       "      <td>0.0</td>\n",
       "      <td>0</td>\n",
       "      <td>0</td>\n",
       "      <td>0.0</td>\n",
       "      <td>0</td>\n",
       "      <td>0.926481</td>\n",
       "      <td>-21.0</td>\n",
       "      <td>-41.0</td>\n",
       "      <td>0.866808</td>\n",
       "      <td>-0.783198</td>\n",
       "      <td>0.055535</td>\n",
       "      <td>-0.623519</td>\n",
       "      <td>2</td>\n",
       "      <td>0.057853</td>\n",
       "      <td>0</td>\n",
       "      <td>1</td>\n",
       "      <td>0.038451</td>\n",
       "      <td>0.007462</td>\n",
       "      <td>1</td>\n",
       "      <td>0.035560</td>\n",
       "      <td>0.005466</td>\n",
       "    </tr>\n",
       "    <tr>\n",
       "      <td>1</td>\n",
       "      <td>chiara</td>\n",
       "      <td>0</td>\n",
       "      <td>1</td>\n",
       "      <td>1</td>\n",
       "      <td>0</td>\n",
       "      <td>0</td>\n",
       "      <td>55.9409</td>\n",
       "      <td>3.60055</td>\n",
       "      <td>6</td>\n",
       "      <td>0.020639</td>\n",
       "      <td>2.95859</td>\n",
       "      <td>0.001131</td>\n",
       "      <td>2.95859</td>\n",
       "      <td>0.310058</td>\n",
       "      <td>0.310187</td>\n",
       "      <td>0.379754</td>\n",
       "      <td>30.3267</td>\n",
       "      <td>1</td>\n",
       "      <td>0.037086</td>\n",
       "      <td>4</td>\n",
       "      <td>1</td>\n",
       "      <td>0.041971</td>\n",
       "      <td>3</td>\n",
       "      <td>0.029095</td>\n",
       "      <td>1.69636</td>\n",
       "      <td>0.010696</td>\n",
       "      <td>1.69636</td>\n",
       "      <td>0.227965</td>\n",
       "      <td>0.408232</td>\n",
       "      <td>0.363803</td>\n",
       "      <td>...</td>\n",
       "      <td>0.0</td>\n",
       "      <td>0.0</td>\n",
       "      <td>0.0</td>\n",
       "      <td>0.0</td>\n",
       "      <td>0.0</td>\n",
       "      <td>0.0</td>\n",
       "      <td>0.0</td>\n",
       "      <td>0.0</td>\n",
       "      <td>0</td>\n",
       "      <td>0.0</td>\n",
       "      <td>0</td>\n",
       "      <td>0</td>\n",
       "      <td>0.0</td>\n",
       "      <td>0</td>\n",
       "      <td>-0.836526</td>\n",
       "      <td>-21.0</td>\n",
       "      <td>-41.0</td>\n",
       "      <td>-4.237590</td>\n",
       "      <td>-0.950782</td>\n",
       "      <td>0.055535</td>\n",
       "      <td>-2.386530</td>\n",
       "      <td>2</td>\n",
       "      <td>0.057853</td>\n",
       "      <td>0</td>\n",
       "      <td>1</td>\n",
       "      <td>0.038451</td>\n",
       "      <td>0.007462</td>\n",
       "      <td>1</td>\n",
       "      <td>0.035560</td>\n",
       "      <td>0.005466</td>\n",
       "    </tr>\n",
       "    <tr>\n",
       "      <td>2</td>\n",
       "      <td>chiara</td>\n",
       "      <td>0</td>\n",
       "      <td>0</td>\n",
       "      <td>0</td>\n",
       "      <td>0</td>\n",
       "      <td>0.295327</td>\n",
       "      <td>30.5247</td>\n",
       "      <td>3.95126</td>\n",
       "      <td>6</td>\n",
       "      <td>-1.277080</td>\n",
       "      <td>-47.21200</td>\n",
       "      <td>-0.378989</td>\n",
       "      <td>-47.21200</td>\n",
       "      <td>0.422408</td>\n",
       "      <td>0.208915</td>\n",
       "      <td>0.368677</td>\n",
       "      <td>38.9140</td>\n",
       "      <td>1</td>\n",
       "      <td>-0.107696</td>\n",
       "      <td>3</td>\n",
       "      <td>0</td>\n",
       "      <td>-999.000000</td>\n",
       "      <td>-999</td>\n",
       "      <td>-1.410610</td>\n",
       "      <td>-31.18890</td>\n",
       "      <td>-0.046665</td>\n",
       "      <td>-31.18890</td>\n",
       "      <td>0.268466</td>\n",
       "      <td>0.432518</td>\n",
       "      <td>0.299016</td>\n",
       "      <td>...</td>\n",
       "      <td>0.0</td>\n",
       "      <td>0.0</td>\n",
       "      <td>0.0</td>\n",
       "      <td>0.0</td>\n",
       "      <td>0.0</td>\n",
       "      <td>0.0</td>\n",
       "      <td>0.0</td>\n",
       "      <td>0.0</td>\n",
       "      <td>0</td>\n",
       "      <td>0.0</td>\n",
       "      <td>0</td>\n",
       "      <td>0</td>\n",
       "      <td>0.0</td>\n",
       "      <td>0</td>\n",
       "      <td>-1.131970</td>\n",
       "      <td>-21.0</td>\n",
       "      <td>-41.0</td>\n",
       "      <td>-4.352550</td>\n",
       "      <td>-0.921247</td>\n",
       "      <td>0.055535</td>\n",
       "      <td>-2.681970</td>\n",
       "      <td>2</td>\n",
       "      <td>-0.125010</td>\n",
       "      <td>0</td>\n",
       "      <td>1</td>\n",
       "      <td>-0.047239</td>\n",
       "      <td>0.011068</td>\n",
       "      <td>1</td>\n",
       "      <td>-0.059581</td>\n",
       "      <td>0.011667</td>\n",
       "    </tr>\n",
       "  </tbody>\n",
       "</table>\n",
       "<p>3 rows × 375 columns</p>\n",
       "</div>"
      ],
      "text/plain": [
       "     name  flav  truth_match  quark_match  ele_match    PU_frac   jet_pt  \\\n",
       "0  chiara  5     1            1            0           0         83.3035   \n",
       "1  chiara  0     1            1            0           0         55.9409   \n",
       "2  chiara  0     0            0            0           0.295327  30.5247   \n",
       "\n",
       "   jet_eta  n_trk   ValZ0_0   SigZ0_0   ValD0_0   SigD0_0  IP3D_trk_pb_0  \\\n",
       "0  2.79517  5      0.462290  39.74930  0.283950  39.74930  0.772943        \n",
       "1  3.60055  6      0.020639  2.95859   0.001131  2.95859   0.310058        \n",
       "2  3.95126  6     -1.277080 -47.21200 -0.378989 -47.21200  0.422408        \n",
       "\n",
       "   IP3D_trk_pu_0  IP3D_trk_pc_0  pt_trk_0  has_time_0    time_0  nhits_0  \\\n",
       "0  0.053444       0.173613       22.9957   1           0.042305  2         \n",
       "1  0.310187       0.379754       30.3267   1           0.037086  4         \n",
       "2  0.208915       0.368677       38.9140   1          -0.107696  3         \n",
       "\n",
       "   has_time_truth_0  time_truth_0  nhits_truth_0   ValZ0_1   SigZ0_1  \\\n",
       "0  1                 0.041971      2             -0.218200 -15.05000   \n",
       "1  1                 0.041971      3              0.029095  1.69636    \n",
       "2  0                -999.000000   -999           -1.410610 -31.18890   \n",
       "\n",
       "    ValD0_1   SigD0_1  IP3D_trk_pb_1  IP3D_trk_pu_1  IP3D_trk_pc_1  ...  \\\n",
       "0 -0.107653 -15.05000  0.445546       0.192721       0.361732       ...   \n",
       "1  0.010696  1.69636   0.227965       0.408232       0.363803       ...   \n",
       "2 -0.046665 -31.18890  0.268466       0.432518       0.299016       ...   \n",
       "\n",
       "   ValZ0_24  SigZ0_24  ValD0_24  SigD0_24  IP3D_trk_pb_24  IP3D_trk_pu_24  \\\n",
       "0  0.0       0.0       0.0       0.0       0.0             0.0              \n",
       "1  0.0       0.0       0.0       0.0       0.0             0.0              \n",
       "2  0.0       0.0       0.0       0.0       0.0             0.0              \n",
       "\n",
       "   IP3D_trk_pc_24  pt_trk_24  has_time_24  time_24  nhits_24  \\\n",
       "0  0.0             0.0        0            0.0      0          \n",
       "1  0.0             0.0        0            0.0      0          \n",
       "2  0.0             0.0        0            0.0      0          \n",
       "\n",
       "   has_time_truth_24  time_truth_24  nhits_truth_24     IP3Dw  SV1w   JFw  \\\n",
       "0  0                  0.0            0               0.926481 -21.0 -41.0   \n",
       "1  0                  0.0            0              -0.836526 -21.0 -41.0   \n",
       "2  0                  0.0            0              -1.131970 -21.0 -41.0   \n",
       "\n",
       "   JFCombNNw      Mv2w      Mv1w  IP3DPlusSV1w  has_t0        t0  sigma_t0  \\\n",
       "0  0.866808  -0.783198  0.055535 -0.623519      2       0.057853  0          \n",
       "1 -4.237590  -0.950782  0.055535 -2.386530      2       0.057853  0          \n",
       "2 -4.352550  -0.921247  0.055535 -2.681970      2      -0.125010  0          \n",
       "\n",
       "   has_t0_alex   t0_alex  sigma_t0_alex  has_t0_alex_truth  t0_alex_truth  \\\n",
       "0  1            0.038451  0.007462       1                  0.035560        \n",
       "1  1            0.038451  0.007462       1                  0.035560        \n",
       "2  1           -0.047239  0.011068       1                 -0.059581        \n",
       "\n",
       "   sigma_t0_alex_truth  \n",
       "0  0.005466             \n",
       "1  0.005466             \n",
       "2  0.011667             \n",
       "\n",
       "[3 rows x 375 columns]"
      ]
     },
     "execution_count": 6,
     "metadata": {},
     "output_type": "execute_result"
    }
   ],
   "source": [
    "df_original.head(3)"
   ]
  },
  {
   "cell_type": "code",
   "execution_count": 7,
   "metadata": {},
   "outputs": [],
   "source": [
    "# define some useful variables\n",
    "use_truth = 0\n",
    "use_t0 = 1\n",
    "n_trk_used = 10\n",
    "tagger = 'IP3D_tracks' # d0z0_traks, IP3D_tracks, IP3Dw, SV1w, JFw, JFCombNNw, Mv2w, Mv1w, IP3DPlusSV1w\n",
    "manipulate_time = 0\n",
    "train_ITK = 1\n",
    "eta_th = 2.5 # not used now, just using 2.5\n"
   ]
  },
  {
   "cell_type": "code",
   "execution_count": 8,
   "metadata": {},
   "outputs": [],
   "source": [
    "name_fig = str(tagger+'_truth_'+str(use_truth)+'_uset0_'+str(use_t0)\n",
    "               +'_ntrk_'+str(n_trk_used)+'_playwithtime_'+str(manipulate_time)\n",
    "               +'_trainITK_'+str(train_ITK)+'_eta_'+str(eta_th).replace('.','')+'_4')"
   ]
  },
  {
   "cell_type": "code",
   "execution_count": 9,
   "metadata": {},
   "outputs": [],
   "source": [
    "time_str = 'time' # string to read the time of each track\n",
    "nhits_str = 'nhits'\n",
    "#t0_variables = ['has_t0','t0','zero'] # my simple t0\n",
    "#t0_variables = ['has_t0_alex','t0_alex','sigma_t0_alex'] # BDT t0 reco\n",
    "t0_variables = ['has_t0_alex','t0_alex'] # BDT t0 reco\n",
    "t0_suffix = '_alex'\n",
    "\n",
    "if use_truth:\n",
    "    time_str = 'time_truth' \n",
    "    nhits_str = 'nhits_truth'\n",
    "    # t0_variables = ['has_t0_alex_truth','t0_alex_truth','sigma_t0_alex_truth'] # BDT t0 rec\n",
    "    t0_variables = ['has_t0_alex_truth','t0_alex_truth'] # BDT t0 rec\n",
    "    t0_suffix = '_alex_truth'\n",
    "    \n",
    "columns_to_use = dict()\n",
    "columns_to_use['IP3Dw'] = ['IP3Dw']\n",
    "columns_to_use['SV1w'] = ['SV1w']\n",
    "columns_to_use['JFw'] = ['JFw']\n",
    "columns_to_use['JFCombNNw'] = ['JFCombNNw']\n",
    "columns_to_use['Mv2w'] = ['Mv2w']\n",
    "columns_to_use['Mv1w'] = ['Mv1w']\n",
    "columns_to_use['IP3DPlusSV1w'] = ['IP3DPlusSV1w']\n",
    "columns_to_use['IP3D_tracks'] = [info+'_'+str(i) for i in range(n_trk_used) for info in [\"IP3D_trk_pb\",\"IP3D_trk_pu\"]]\n",
    "columns_to_use['d0z0_traks'] = [info+'_'+str(i) for i in range(n_trk_used) for info in [\"ValZ0\",\"SigZ0\",\"ValD0\",\"SigD0\"]]\n",
    "# info currently not used: \"IP3D_trk_pc\",\"pt_trk\"\n",
    "info_from_HGTD = [info+'_'+str(i) for i in range(n_trk_used) for info in [\"has_\"+time_str, time_str,nhits_str]]\n",
    "if use_t0:\n",
    "    info_from_HGTD = info_from_HGTD + t0_variables"
   ]
  },
  {
   "cell_type": "code",
   "execution_count": 10,
   "metadata": {},
   "outputs": [],
   "source": [
    "# remove rows with NaN (originating e.g. from empty lines in input file)\n",
    "df_original = df_original[df_original['flav'].notna()] "
   ]
  },
  {
   "cell_type": "code",
   "execution_count": 11,
   "metadata": {},
   "outputs": [],
   "source": [
    "# check_null(df)"
   ]
  },
  {
   "cell_type": "code",
   "execution_count": 12,
   "metadata": {},
   "outputs": [],
   "source": [
    "# do not consider PU jets\n",
    "df = df_original[(df_original['truth_match']>0) & (df_original['quark_match']>0)]\n",
    "# keep jets with pt>20 GeV, 2.5<eta<4\n",
    "df = df[(df['jet_pt']>20) & (df['jet_eta']>2.5) & (df['jet_eta']<4)]\n",
    "#df = df_original[(df_original['ele_match']<1)]\n",
    "# for the moment I want to focus on b-vs-light --> keep only real light and b, and put target to flav=5\n",
    "df = df[(df['flav']==0) | (df['flav']==5) ]\n",
    "df['target'] = (df['flav'] == 5 ).astype(int)"
   ]
  },
  {
   "cell_type": "code",
   "execution_count": 13,
   "metadata": {},
   "outputs": [
    {
     "data": {
      "image/png": "[encoded data removed]",
      "text/plain": [
       "<Figure size 432x288 with 1 Axes>"
      ]
     },
     "metadata": {
      "needs_background": "light"
     },
     "output_type": "display_data"
    }
   ],
   "source": [
    "plt.scatter(df_original['n_trk'].value_counts().index, df_original['n_trk'].value_counts())\n",
    "plt.scatter(df['n_trk'].value_counts().index, df['n_trk'].value_counts())\n",
    "plt.grid(True)"
   ]
  },
  {
   "cell_type": "code",
   "execution_count": 14,
   "metadata": {},
   "outputs": [
    {
     "data": {
      "image/png": "[encoded data removed]",
      "text/plain": [
       "<Figure size 432x288 with 1 Axes>"
      ]
     },
     "metadata": {
      "needs_background": "light"
     },
     "output_type": "display_data"
    }
   ],
   "source": [
    "plt.scatter(df_original['flav'].value_counts().index, df_original['flav'].value_counts())\n",
    "plt.scatter(df['flav'].value_counts().index, df['flav'].value_counts())\n",
    "plt.grid(True)"
   ]
  },
  {
   "cell_type": "code",
   "execution_count": 15,
   "metadata": {},
   "outputs": [],
   "source": [
    "# df[['truth_match','quark_match','ele_match']].describe()"
   ]
  },
  {
   "cell_type": "code",
   "execution_count": 16,
   "metadata": {},
   "outputs": [
    {
     "data": {
      "text/plain": [
       "count    141249.000000\n",
       "mean     0.329142     \n",
       "std      0.469903     \n",
       "min      0.000000     \n",
       "25%      0.000000     \n",
       "50%      0.000000     \n",
       "75%      1.000000     \n",
       "max      1.000000     \n",
       "Name: target, dtype: float64"
      ]
     },
     "execution_count": 16,
     "metadata": {},
     "output_type": "execute_result"
    }
   ],
   "source": [
    "# check how many events and the fraction of b-jets\n",
    "df['target'].describe()"
   ]
  },
  {
   "cell_type": "code",
   "execution_count": 17,
   "metadata": {},
   "outputs": [],
   "source": [
    "df = df.replace([-999],[0])"
   ]
  },
  {
   "cell_type": "code",
   "execution_count": 18,
   "metadata": {},
   "outputs": [],
   "source": [
    "# change the track pT into fraction of the jet_pt\n",
    "for i in range(25):\n",
    "    col = 'pt_trk'+'_'+str(i)\n",
    "    df[col] = df[col]/df['jet_pt']"
   ]
  },
  {
   "cell_type": "code",
   "execution_count": 19,
   "metadata": {},
   "outputs": [],
   "source": [
    "# change time into time-t0 (if no t0, t0 is set to zero so no difference)\n",
    "if manipulate_time:\n",
    "    df['avg_trk_time'] = 0\n",
    "    df.loc[df['n_trk']>0,'avg_trk_time'] = (sum(df[time_str+'_'+str(i)] for i in range(25)))/df['n_trk']\n",
    "    for i in range(25):\n",
    "        if use_t0:\n",
    "            col = time_str+'_'+str(i)\n",
    "            df[col] = df[col]-df['t0'+t0_suffix]\n",
    "            df.loc[df['has_t0'+t0_suffix]<1, time_str+'_'+str(i)] = df[time_str+'_'+str(i)] - df['avg_trk_time']\n",
    "        else:\n",
    "            df[time_str+'_'+str(i)] = df[time_str+'_'+str(i)] - df['avg_trk_time']"
   ]
  },
  {
   "cell_type": "code",
   "execution_count": 20,
   "metadata": {},
   "outputs": [],
   "source": [
    "#check_null(df)"
   ]
  },
  {
   "cell_type": "code",
   "execution_count": 21,
   "metadata": {},
   "outputs": [],
   "source": [
    "# df[['flav']+['pt_trk'+'_'+str(i) for i in range(n_trk_used)]].head()\n",
    "# pfff, these are not pt ordered :( Probably pt-ordeered before calibration"
   ]
  },
  {
   "cell_type": "code",
   "execution_count": 22,
   "metadata": {},
   "outputs": [],
   "source": [
    "columns_to_use_df = ['target'] + columns_to_use[tagger] + info_from_HGTD\n",
    "df_to_use = df[columns_to_use_df]"
   ]
  },
  {
   "cell_type": "code",
   "execution_count": 23,
   "metadata": {},
   "outputs": [
    {
     "name": "stderr",
     "output_type": "stream",
     "text": [
      "/opt/anaconda3/lib/python3.7/site-packages/ipykernel_launcher.py:4: SettingWithCopyWarning: \n",
      "A value is trying to be set on a copy of a slice from a DataFrame.\n",
      "Try using .loc[row_indexer,col_indexer] = value instead\n",
      "\n",
      "See the caveats in the documentation: http://pandas.pydata.org/pandas-docs/stable/user_guide/indexing.html#returning-a-view-versus-a-copy\n",
      "  after removing the cwd from sys.path.\n",
      "/opt/anaconda3/lib/python3.7/site-packages/ipykernel_launcher.py:5: SettingWithCopyWarning: \n",
      "A value is trying to be set on a copy of a slice from a DataFrame.\n",
      "Try using .loc[row_indexer,col_indexer] = value instead\n",
      "\n",
      "See the caveats in the documentation: http://pandas.pydata.org/pandas-docs/stable/user_guide/indexing.html#returning-a-view-versus-a-copy\n",
      "  \"\"\"\n"
     ]
    }
   ],
   "source": [
    "#columns_to_use.remove('target')\n",
    "#df_to_use[columns_to_use[tagger] + info_from_HGTD].columns\n",
    "df_to_use.reset_index(drop=True,inplace=True)\n",
    "df_to_use['y_pred_HGTD'] = -999\n",
    "df_to_use['y_pred_ITK'] = -999"
   ]
  },
  {
   "cell_type": "code",
   "execution_count": 24,
   "metadata": {},
   "outputs": [],
   "source": [
    "# convert df into arrays\n",
    "X = df_to_use[columns_to_use[tagger] + info_from_HGTD].values\n",
    "y = df_to_use['target'].values\n",
    "# scaling\n",
    "sc = StandardScaler()\n",
    "X = sc.fit_transform(X) "
   ]
  },
  {
   "cell_type": "code",
   "execution_count": 25,
   "metadata": {},
   "outputs": [],
   "source": [
    "# X_train,X_test,y_train,y_test = train_test_split(X,y,test_size = 0.25)\n",
    "# cross validation \n",
    "cv = StratifiedKFold(n_splits=5)\n",
    "fprs_hgtd = []\n",
    "fprs_hgtd_train = []\n",
    "if train_ITK:\n",
    "    fprs_itk = []\n",
    "    fprs_itk_train = []\n",
    "mean_tpr_hgtd = np.linspace(0, 1, 100)"
   ]
  },
  {
   "cell_type": "code",
   "execution_count": 26,
   "metadata": {},
   "outputs": [],
   "source": [
    "# Neural network\n",
    "model = Sequential() # creating model sequentially (each layer takes as input output of previous layer)\n",
    "model.add(Dense(300, input_dim=len(columns_to_use[tagger]+info_from_HGTD), activation='relu')) # Dense: fully connected layer\n",
    "# model.add(Dense(50, activation='relu'))\n",
    "model.add(Dense(1, activation='sigmoid')) # chiara: check what's the best activation function for single-value output\n",
    "# loss function and optimizer\n",
    "model.compile(loss='binary_crossentropy', optimizer='adam', metrics=['acc'])"
   ]
  },
  {
   "cell_type": "code",
   "execution_count": 27,
   "metadata": {},
   "outputs": [
    {
     "name": "stdout",
     "output_type": "stream",
     "text": [
      "Train on 112998 samples, validate on 28251 samples\n",
      "Epoch 1/10\n",
      "112998/112998 [==============================] - 11s 98us/step - loss: 0.3183 - acc: 0.8729 - val_loss: 0.3109 - val_acc: 0.8765\n",
      "Epoch 2/10\n",
      "112998/112998 [==============================] - 11s 100us/step - loss: 0.3109 - acc: 0.8780 - val_loss: 0.3093 - val_acc: 0.8773\n",
      "Epoch 3/10\n",
      "112998/112998 [==============================] - 11s 100us/step - loss: 0.3086 - acc: 0.8789 - val_loss: 0.3108 - val_acc: 0.8764\n",
      "Epoch 4/10\n",
      "112998/112998 [==============================] - 12s 103us/step - loss: 0.3071 - acc: 0.8792 - val_loss: 0.3111 - val_acc: 0.8769\n",
      "Epoch 5/10\n",
      "112998/112998 [==============================] - 12s 102us/step - loss: 0.3061 - acc: 0.8796 - val_loss: 0.3086 - val_acc: 0.8780\n",
      "Epoch 6/10\n",
      "112998/112998 [==============================] - 12s 102us/step - loss: 0.3049 - acc: 0.8802 - val_loss: 0.3100 - val_acc: 0.8780\n",
      "Epoch 7/10\n",
      "112998/112998 [==============================] - 12s 103us/step - loss: 0.3041 - acc: 0.8807 - val_loss: 0.3089 - val_acc: 0.8780\n",
      "Epoch 8/10\n",
      "112998/112998 [==============================] - 11s 102us/step - loss: 0.3034 - acc: 0.8809 - val_loss: 0.3089 - val_acc: 0.8775\n",
      "Epoch 9/10\n",
      "112998/112998 [==============================] - 11s 98us/step - loss: 0.3024 - acc: 0.8810 - val_loss: 0.3123 - val_acc: 0.8767\n",
      "Epoch 10/10\n",
      "112998/112998 [==============================] - 11s 100us/step - loss: 0.3015 - acc: 0.8809 - val_loss: 0.3084 - val_acc: 0.8787\n",
      "Train on 112999 samples, validate on 28250 samples\n",
      "Epoch 1/10\n",
      "  1248/112999 [..............................] - ETA: 10s - loss: 0.2901 - acc: 0.8862"
     ]
    },
    {
     "name": "stderr",
     "output_type": "stream",
     "text": [
      "/opt/anaconda3/lib/python3.7/site-packages/pandas/core/indexing.py:494: SettingWithCopyWarning: \n",
      "A value is trying to be set on a copy of a slice from a DataFrame.\n",
      "Try using .loc[row_indexer,col_indexer] = value instead\n",
      "\n",
      "See the caveats in the documentation: http://pandas.pydata.org/pandas-docs/stable/user_guide/indexing.html#returning-a-view-versus-a-copy\n",
      "  self.obj[item] = s\n"
     ]
    },
    {
     "name": "stdout",
     "output_type": "stream",
     "text": [
      "112999/112999 [==============================] - 11s 98us/step - loss: 0.3039 - acc: 0.8806 - val_loss: 0.2998 - val_acc: 0.8820\n",
      "Epoch 2/10\n",
      "112999/112999 [==============================] - 11s 98us/step - loss: 0.3031 - acc: 0.8812 - val_loss: 0.3003 - val_acc: 0.8816\n",
      "Epoch 3/10\n",
      "112999/112999 [==============================] - 11s 99us/step - loss: 0.3016 - acc: 0.8817 - val_loss: 0.3003 - val_acc: 0.8825\n",
      "Epoch 4/10\n",
      "112999/112999 [==============================] - 11s 99us/step - loss: 0.3008 - acc: 0.8821 - val_loss: 0.3046 - val_acc: 0.8799\n",
      "Epoch 5/10\n",
      "112999/112999 [==============================] - 11s 99us/step - loss: 0.2996 - acc: 0.8828 - val_loss: 0.3035 - val_acc: 0.8803\n",
      "Epoch 6/10\n",
      "112999/112999 [==============================] - 11s 102us/step - loss: 0.2986 - acc: 0.8829 - val_loss: 0.3017 - val_acc: 0.8809\n",
      "Epoch 7/10\n",
      "112999/112999 [==============================] - 11s 97us/step - loss: 0.2972 - acc: 0.8835 - val_loss: 0.3035 - val_acc: 0.8805\n",
      "Epoch 8/10\n",
      "112999/112999 [==============================] - 11s 98us/step - loss: 0.2963 - acc: 0.8837 - val_loss: 0.3071 - val_acc: 0.8786\n",
      "Epoch 9/10\n",
      "112999/112999 [==============================] - 11s 101us/step - loss: 0.2949 - acc: 0.8844 - val_loss: 0.3056 - val_acc: 0.8801\n",
      "Epoch 10/10\n",
      "112999/112999 [==============================] - 11s 97us/step - loss: 0.2934 - acc: 0.8848 - val_loss: 0.3082 - val_acc: 0.8787\n",
      "Train on 112999 samples, validate on 28250 samples\n",
      "Epoch 1/10\n",
      "112999/112999 [==============================] - 12s 106us/step - loss: 0.2961 - acc: 0.8839 - val_loss: 0.2936 - val_acc: 0.8852\n",
      "Epoch 2/10\n",
      "112999/112999 [==============================] - 12s 104us/step - loss: 0.2943 - acc: 0.8846 - val_loss: 0.2989 - val_acc: 0.8832\n",
      "Epoch 3/10\n",
      "112999/112999 [==============================] - 12s 102us/step - loss: 0.2925 - acc: 0.8849 - val_loss: 0.2979 - val_acc: 0.8835\n",
      "Epoch 4/10\n",
      "112999/112999 [==============================] - 12s 106us/step - loss: 0.2907 - acc: 0.8864 - val_loss: 0.2994 - val_acc: 0.8829\n",
      "Epoch 5/10\n",
      "112999/112999 [==============================] - 12s 105us/step - loss: 0.2891 - acc: 0.8868 - val_loss: 0.3002 - val_acc: 0.8824\n",
      "Epoch 6/10\n",
      "112999/112999 [==============================] - 12s 106us/step - loss: 0.2878 - acc: 0.8869 - val_loss: 0.3015 - val_acc: 0.8824\n",
      "Epoch 7/10\n",
      "112999/112999 [==============================] - 12s 105us/step - loss: 0.2865 - acc: 0.8874 - val_loss: 0.3048 - val_acc: 0.8804\n",
      "Epoch 8/10\n",
      "112999/112999 [==============================] - 12s 106us/step - loss: 0.2847 - acc: 0.8877 - val_loss: 0.3029 - val_acc: 0.8833\n",
      "Epoch 9/10\n",
      "112999/112999 [==============================] - 12s 109us/step - loss: 0.2835 - acc: 0.8886 - val_loss: 0.3083 - val_acc: 0.8793\n",
      "Epoch 10/10\n",
      "112999/112999 [==============================] - 13s 112us/step - loss: 0.2820 - acc: 0.8896 - val_loss: 0.3099 - val_acc: 0.8810\n",
      "Train on 113000 samples, validate on 28249 samples\n",
      "Epoch 1/10\n",
      "113000/113000 [==============================] - 13s 112us/step - loss: 0.2874 - acc: 0.8869 - val_loss: 0.2860 - val_acc: 0.8882\n",
      "Epoch 2/10\n",
      "113000/113000 [==============================] - 12s 103us/step - loss: 0.2849 - acc: 0.8880 - val_loss: 0.2902 - val_acc: 0.8848\n",
      "Epoch 3/10\n",
      "113000/113000 [==============================] - 11s 98us/step - loss: 0.2827 - acc: 0.8886 - val_loss: 0.2909 - val_acc: 0.8850\n",
      "Epoch 4/10\n",
      "113000/113000 [==============================] - 12s 105us/step - loss: 0.2811 - acc: 0.8894 - val_loss: 0.2944 - val_acc: 0.8854\n",
      "Epoch 5/10\n",
      "113000/113000 [==============================] - 11s 101us/step - loss: 0.2795 - acc: 0.8898 - val_loss: 0.2955 - val_acc: 0.8823\n",
      "Epoch 6/10\n",
      "113000/113000 [==============================] - 11s 99us/step - loss: 0.2776 - acc: 0.8906 - val_loss: 0.2976 - val_acc: 0.8826\n",
      "Epoch 7/10\n",
      "113000/113000 [==============================] - 11s 99us/step - loss: 0.2760 - acc: 0.8916 - val_loss: 0.3011 - val_acc: 0.8817\n",
      "Epoch 8/10\n",
      "113000/113000 [==============================] - 12s 104us/step - loss: 0.2744 - acc: 0.8920 - val_loss: 0.3025 - val_acc: 0.8820\n",
      "Epoch 9/10\n",
      "113000/113000 [==============================] - 12s 105us/step - loss: 0.2726 - acc: 0.8921 - val_loss: 0.3028 - val_acc: 0.8830\n",
      "Epoch 10/10\n",
      "113000/113000 [==============================] - 12s 104us/step - loss: 0.2710 - acc: 0.8935 - val_loss: 0.3067 - val_acc: 0.8790\n",
      "Train on 113000 samples, validate on 28249 samples\n",
      "Epoch 1/10\n",
      "113000/113000 [==============================] - 12s 105us/step - loss: 0.2803 - acc: 0.8898 - val_loss: 0.2694 - val_acc: 0.8925\n",
      "Epoch 2/10\n",
      "113000/113000 [==============================] - 12s 107us/step - loss: 0.2766 - acc: 0.8916 - val_loss: 0.2737 - val_acc: 0.8919\n",
      "Epoch 3/10\n",
      "113000/113000 [==============================] - 12s 105us/step - loss: 0.2743 - acc: 0.8918 - val_loss: 0.2792 - val_acc: 0.8890\n",
      "Epoch 4/10\n",
      "113000/113000 [==============================] - 12s 106us/step - loss: 0.2731 - acc: 0.8928 - val_loss: 0.2823 - val_acc: 0.8894\n",
      "Epoch 5/10\n",
      "113000/113000 [==============================] - 12s 104us/step - loss: 0.2716 - acc: 0.8929 - val_loss: 0.2877 - val_acc: 0.8849\n",
      "Epoch 6/10\n",
      "113000/113000 [==============================] - 12s 106us/step - loss: 0.2694 - acc: 0.8939 - val_loss: 0.2936 - val_acc: 0.8846\n",
      "Epoch 7/10\n",
      "113000/113000 [==============================] - 12s 106us/step - loss: 0.2679 - acc: 0.8944 - val_loss: 0.2944 - val_acc: 0.8833\n",
      "Epoch 8/10\n",
      "113000/113000 [==============================] - 12s 105us/step - loss: 0.2666 - acc: 0.8953 - val_loss: 0.2925 - val_acc: 0.8852\n",
      "Epoch 9/10\n",
      "113000/113000 [==============================] - 12s 105us/step - loss: 0.2653 - acc: 0.8952 - val_loss: 0.2953 - val_acc: 0.8840\n",
      "Epoch 10/10\n",
      "113000/113000 [==============================] - 12s 104us/step - loss: 0.2640 - acc: 0.8965 - val_loss: 0.2974 - val_acc: 0.8837\n"
     ]
    }
   ],
   "source": [
    "# training \n",
    "for i, (train, test) in enumerate(cv.split(X, y)):\n",
    "    history = model.fit(X[train], y[train], epochs=10, batch_size=32,\n",
    "                        validation_data = (X[test],y[test]))\n",
    "    y_pred_test = model.predict(X[test])\n",
    "    y_pred_train = model.predict(X[train])\n",
    "    fpr_test, tpr_test, thresholds_test = roc_curve(y[test], y_pred_test)\n",
    "    interp_fpr = np.interp(mean_tpr_hgtd, tpr_test, fpr_test)\n",
    "    fpr_train, tpr_train, thresholds_train = roc_curve(y[train], y_pred_train)\n",
    "    interp_fpr_train = np.interp(mean_tpr_hgtd, tpr_train, fpr_train)\n",
    "    interp_fpr[0] = 0.0\n",
    "    interp_fpr_train[0] = 0.0\n",
    "    fprs_hgtd.append(interp_fpr)\n",
    "    fprs_hgtd_train.append(interp_fpr_train)\n",
    "    df_to_use.iloc[test,list(df_to_use.columns).index('y_pred_HGTD')] = y_pred_test"
   ]
  },
  {
   "cell_type": "code",
   "execution_count": 28,
   "metadata": {},
   "outputs": [
    {
     "name": "stderr",
     "output_type": "stream",
     "text": [
      "/opt/anaconda3/lib/python3.7/site-packages/ipykernel_launcher.py:8: RuntimeWarning: divide by zero encountered in true_divide\n",
      "  \n",
      "/opt/anaconda3/lib/python3.7/site-packages/ipykernel_launcher.py:9: RuntimeWarning: divide by zero encountered in true_divide\n",
      "  if __name__ == '__main__':\n",
      "/opt/anaconda3/lib/python3.7/site-packages/ipykernel_launcher.py:15: RuntimeWarning: divide by zero encountered in true_divide\n",
      "  from ipykernel import kernelapp as app\n"
     ]
    },
    {
     "data": {
      "image/png": "[encoded data removed]",
      "text/plain": [
       "<Figure size 432x288 with 1 Axes>"
      ]
     },
     "metadata": {
      "needs_background": "light"
     },
     "output_type": "display_data"
    }
   ],
   "source": [
    "fig, ax = plt.subplots()\n",
    "ax.plot([0, 1], [0, 1], linestyle='--', lw=2, color='r',\n",
    "        label='Chance', alpha=.8)\n",
    "mean_fpr_hgtd = np.mean(fprs_hgtd, axis=0)\n",
    "mean_fpr_hgtd[-1] = 1.0\n",
    "#mean_auc_hgtd = auc(mean_fpr_hgtd, mean_tpr_hgtd)\n",
    "for f in fprs_hgtd:\n",
    "    ax.plot(mean_tpr_hgtd, 1./f)\n",
    "ax.plot(mean_tpr_hgtd, 1./mean_fpr_hgtd, color='b',\n",
    "        label=r'HGTD Mean ROC',\n",
    "        lw=2, alpha=.8)\n",
    "std_fpr_hgtd = np.std(fprs_hgtd, axis=0)\n",
    "fprs_upper_hgtd = np.minimum(mean_fpr_hgtd + std_fpr_hgtd, 1)\n",
    "fprs_lower_hgtd = np.maximum(mean_fpr_hgtd - std_fpr_hgtd, 0)\n",
    "ax.fill_between(mean_tpr_hgtd, 1./fprs_lower_hgtd, 1./fprs_upper_hgtd, color='grey', alpha=.2,\n",
    "                label=r'$\\pm$ 1 std. dev.')\n",
    "#ax.set(xlim=[-0.05, 1.05], ylim=[-0.05, 1.05],\n",
    "#       title=\"Receiver operating characteristic example\")\n",
    "ax.set(xlim=[0.55,1], ylim=[0, 200])\n",
    "ax.legend(loc=\"lower right\")\n",
    "plt.ylabel('Light rejection')\n",
    "plt.xlabel('B-jet efficiency')\n",
    "plt.savefig('../plots/'+name_fig+'_HGTD_roc.png',bbox_inches='tight')\n",
    "plt.show()"
   ]
  },
  {
   "cell_type": "code",
   "execution_count": 29,
   "metadata": {},
   "outputs": [
    {
     "name": "stderr",
     "output_type": "stream",
     "text": [
      "/opt/anaconda3/lib/python3.7/site-packages/ipykernel_launcher.py:4: RuntimeWarning: divide by zero encountered in true_divide\n",
      "  after removing the cwd from sys.path.\n",
      "/opt/anaconda3/lib/python3.7/site-packages/ipykernel_launcher.py:5: RuntimeWarning: divide by zero encountered in true_divide\n",
      "  \"\"\"\n"
     ]
    },
    {
     "data": {
      "image/png": "[encoded data removed]",
      "text/plain": [
       "<Figure size 432x288 with 1 Axes>"
      ]
     },
     "metadata": {
      "needs_background": "light"
     },
     "output_type": "display_data"
    }
   ],
   "source": [
    "# plot to check overtraining\n",
    "plt.figure(1)\n",
    "plt.plot([0, 1], [0, 1], 'k--')\n",
    "plt.plot(tpr_train, 1./fpr_train, label='HGTD-train')\n",
    "plt.plot(tpr_test, 1./fpr_test, label='HGTD-validation')\n",
    "plt.title('ROC curve')\n",
    "plt.legend(loc='best')\n",
    "plt.yscale('log')\n",
    "plt.xlim(0.55,1)\n",
    "plt.grid(True)\n",
    "plt.savefig('../plots/'+name_fig+'_HGTD_train_test.png',bbox_inches='tight')\n",
    "plt.show()"
   ]
  },
  {
   "cell_type": "code",
   "execution_count": 30,
   "metadata": {},
   "outputs": [],
   "source": [
    "#X_train.shape"
   ]
  },
  {
   "cell_type": "code",
   "execution_count": 31,
   "metadata": {},
   "outputs": [],
   "source": [
    "#X_train_no_HGTD = X_train[:,0:len(columns_to_use[tagger])]\n",
    "#X_test_no_HGTD = X_test[:,0:len(columns_to_use[tagger])]"
   ]
  },
  {
   "cell_type": "code",
   "execution_count": 32,
   "metadata": {},
   "outputs": [],
   "source": [
    "X_no_HGTD = X[:,0:len(columns_to_use[tagger])]"
   ]
  },
  {
   "cell_type": "code",
   "execution_count": 33,
   "metadata": {},
   "outputs": [],
   "source": [
    "#X_no_HGTD.shape"
   ]
  },
  {
   "cell_type": "code",
   "execution_count": 34,
   "metadata": {},
   "outputs": [],
   "source": [
    "# Neural network\n",
    "if train_ITK:\n",
    "    model2 = Sequential() # creating model sequentially (each layer takes as input output of previous layer)\n",
    "    model2.add(Dense(300, input_dim=len(columns_to_use[tagger]), activation='relu')) # Dense: fully connected layer\n",
    "    # model.add(Dense(50, activation='relu'))\n",
    "    # model.add(Dense(20, activation='relu')) \n",
    "    model2.add(Dense(1, activation='sigmoid')) # chiara: check what's the best activation function for single-value output\n",
    "    model2.compile(loss='binary_crossentropy', optimizer='adam', metrics=['acc'])"
   ]
  },
  {
   "cell_type": "code",
   "execution_count": 35,
   "metadata": {},
   "outputs": [
    {
     "name": "stdout",
     "output_type": "stream",
     "text": [
      "Train on 112998 samples, validate on 28251 samples\n",
      "Epoch 1/10\n",
      "112998/112998 [==============================] - 11s 97us/step - loss: 0.3198 - acc: 0.8737 - val_loss: 0.3176 - val_acc: 0.8756\n",
      "Epoch 2/10\n",
      "112998/112998 [==============================] - 11s 94us/step - loss: 0.3137 - acc: 0.8765 - val_loss: 0.3135 - val_acc: 0.8773\n",
      "Epoch 3/10\n",
      "112998/112998 [==============================] - 11s 96us/step - loss: 0.3127 - acc: 0.8769 - val_loss: 0.3141 - val_acc: 0.8761\n",
      "Epoch 4/10\n",
      "112998/112998 [==============================] - 11s 97us/step - loss: 0.3119 - acc: 0.8774 - val_loss: 0.3109 - val_acc: 0.8784\n",
      "Epoch 5/10\n",
      "112998/112998 [==============================] - 11s 96us/step - loss: 0.3117 - acc: 0.8771 - val_loss: 0.3101 - val_acc: 0.8781\n",
      "Epoch 6/10\n",
      "112998/112998 [==============================] - 11s 95us/step - loss: 0.3112 - acc: 0.8778 - val_loss: 0.3116 - val_acc: 0.8779\n",
      "Epoch 7/10\n",
      "112998/112998 [==============================] - 11s 96us/step - loss: 0.3106 - acc: 0.8779 - val_loss: 0.3116 - val_acc: 0.8765\n",
      "Epoch 8/10\n",
      "112998/112998 [==============================] - 11s 97us/step - loss: 0.3106 - acc: 0.8777 - val_loss: 0.3106 - val_acc: 0.8770\n",
      "Epoch 9/10\n",
      "112998/112998 [==============================] - 11s 96us/step - loss: 0.3103 - acc: 0.8777 - val_loss: 0.3096 - val_acc: 0.8782\n",
      "Epoch 10/10\n",
      "112998/112998 [==============================] - 11s 96us/step - loss: 0.3099 - acc: 0.8780 - val_loss: 0.3104 - val_acc: 0.8780\n",
      "Train on 112999 samples, validate on 28250 samples\n",
      "Epoch 1/10\n",
      "  1984/112999 [..............................] - ETA: 9s - loss: 0.2920 - acc: 0.8861"
     ]
    },
    {
     "name": "stderr",
     "output_type": "stream",
     "text": [
      "/opt/anaconda3/lib/python3.7/site-packages/pandas/core/indexing.py:494: SettingWithCopyWarning: \n",
      "A value is trying to be set on a copy of a slice from a DataFrame.\n",
      "Try using .loc[row_indexer,col_indexer] = value instead\n",
      "\n",
      "See the caveats in the documentation: http://pandas.pydata.org/pandas-docs/stable/user_guide/indexing.html#returning-a-view-versus-a-copy\n",
      "  self.obj[item] = s\n"
     ]
    },
    {
     "name": "stdout",
     "output_type": "stream",
     "text": [
      "112999/112999 [==============================] - 11s 96us/step - loss: 0.3107 - acc: 0.8776 - val_loss: 0.3088 - val_acc: 0.8770\n",
      "Epoch 2/10\n",
      "112999/112999 [==============================] - 11s 94us/step - loss: 0.3102 - acc: 0.8781 - val_loss: 0.3068 - val_acc: 0.8776\n",
      "Epoch 3/10\n",
      "112999/112999 [==============================] - 11s 95us/step - loss: 0.3102 - acc: 0.8781 - val_loss: 0.3065 - val_acc: 0.8787\n",
      "Epoch 4/10\n",
      "112999/112999 [==============================] - 11s 94us/step - loss: 0.3099 - acc: 0.8781 - val_loss: 0.3078 - val_acc: 0.8783\n",
      "Epoch 5/10\n",
      "112999/112999 [==============================] - 10s 92us/step - loss: 0.3095 - acc: 0.8781 - val_loss: 0.3085 - val_acc: 0.8774\n",
      "Epoch 6/10\n",
      "112999/112999 [==============================] - 11s 95us/step - loss: 0.3090 - acc: 0.8786 - val_loss: 0.3090 - val_acc: 0.8775\n",
      "Epoch 7/10\n",
      "112999/112999 [==============================] - 11s 94us/step - loss: 0.3090 - acc: 0.8786 - val_loss: 0.3070 - val_acc: 0.8773\n",
      "Epoch 8/10\n",
      "112999/112999 [==============================] - 11s 94us/step - loss: 0.3090 - acc: 0.8789 - val_loss: 0.3075 - val_acc: 0.8764\n",
      "Epoch 9/10\n",
      "112999/112999 [==============================] - 10s 91us/step - loss: 0.3087 - acc: 0.8792 - val_loss: 0.3088 - val_acc: 0.8773\n",
      "Epoch 10/10\n",
      "112999/112999 [==============================] - 10s 91us/step - loss: 0.3086 - acc: 0.8793 - val_loss: 0.3088 - val_acc: 0.8774\n",
      "Train on 112999 samples, validate on 28250 samples\n",
      "Epoch 1/10\n",
      "112999/112999 [==============================] - 10s 92us/step - loss: 0.3081 - acc: 0.8788 - val_loss: 0.3095 - val_acc: 0.8779\n",
      "Epoch 2/10\n",
      "112999/112999 [==============================] - 10s 91us/step - loss: 0.3076 - acc: 0.8788 - val_loss: 0.3106 - val_acc: 0.8794\n",
      "Epoch 3/10\n",
      "112999/112999 [==============================] - 10s 90us/step - loss: 0.3075 - acc: 0.8788 - val_loss: 0.3121 - val_acc: 0.8771\n",
      "Epoch 4/10\n",
      "112999/112999 [==============================] - 10s 90us/step - loss: 0.3074 - acc: 0.8791 - val_loss: 0.3100 - val_acc: 0.8792\n",
      "Epoch 5/10\n",
      "112999/112999 [==============================] - 10s 89us/step - loss: 0.3071 - acc: 0.8792 - val_loss: 0.3104 - val_acc: 0.8790\n",
      "Epoch 6/10\n",
      "112999/112999 [==============================] - 11s 94us/step - loss: 0.3068 - acc: 0.8792 - val_loss: 0.3102 - val_acc: 0.8777\n",
      "Epoch 7/10\n",
      "112999/112999 [==============================] - 11s 95us/step - loss: 0.3068 - acc: 0.8791 - val_loss: 0.3105 - val_acc: 0.8786\n",
      "Epoch 8/10\n",
      "112999/112999 [==============================] - 10s 93us/step - loss: 0.3066 - acc: 0.8790 - val_loss: 0.3104 - val_acc: 0.8783\n",
      "Epoch 9/10\n",
      "112999/112999 [==============================] - 11s 94us/step - loss: 0.3063 - acc: 0.8787 - val_loss: 0.3104 - val_acc: 0.8790\n",
      "Epoch 10/10\n",
      "112999/112999 [==============================] - 10s 92us/step - loss: 0.3063 - acc: 0.8790 - val_loss: 0.3101 - val_acc: 0.8781\n",
      "Train on 113000 samples, validate on 28249 samples\n",
      "Epoch 1/10\n",
      "113000/113000 [==============================] - 10s 92us/step - loss: 0.3070 - acc: 0.8788 - val_loss: 0.3085 - val_acc: 0.8782\n",
      "Epoch 2/10\n",
      "113000/113000 [==============================] - 11s 94us/step - loss: 0.3067 - acc: 0.8789 - val_loss: 0.3074 - val_acc: 0.8787\n",
      "Epoch 3/10\n",
      "113000/113000 [==============================] - 10s 93us/step - loss: 0.3063 - acc: 0.8794 - val_loss: 0.3081 - val_acc: 0.8791\n",
      "Epoch 4/10\n",
      "113000/113000 [==============================] - 10s 91us/step - loss: 0.3062 - acc: 0.8799 - val_loss: 0.3081 - val_acc: 0.8777\n",
      "Epoch 5/10\n",
      "113000/113000 [==============================] - 10s 91us/step - loss: 0.3059 - acc: 0.8795 - val_loss: 0.3092 - val_acc: 0.8780\n",
      "Epoch 6/10\n",
      "113000/113000 [==============================] - 10s 91us/step - loss: 0.3059 - acc: 0.8800 - val_loss: 0.3087 - val_acc: 0.8778\n",
      "Epoch 7/10\n",
      "113000/113000 [==============================] - 10s 92us/step - loss: 0.3055 - acc: 0.8796 - val_loss: 0.3088 - val_acc: 0.8780\n",
      "Epoch 8/10\n",
      "113000/113000 [==============================] - 10s 92us/step - loss: 0.3053 - acc: 0.8803 - val_loss: 0.3094 - val_acc: 0.8789\n",
      "Epoch 9/10\n",
      "113000/113000 [==============================] - 10s 91us/step - loss: 0.3051 - acc: 0.8800 - val_loss: 0.3099 - val_acc: 0.8778\n",
      "Epoch 10/10\n",
      "113000/113000 [==============================] - 10s 92us/step - loss: 0.3046 - acc: 0.8805 - val_loss: 0.3114 - val_acc: 0.8768\n",
      "Train on 113000 samples, validate on 28249 samples\n",
      "Epoch 1/10\n",
      "113000/113000 [==============================] - 10s 92us/step - loss: 0.3059 - acc: 0.8800 - val_loss: 0.3058 - val_acc: 0.8801\n",
      "Epoch 2/10\n",
      "113000/113000 [==============================] - 10s 92us/step - loss: 0.3053 - acc: 0.8800 - val_loss: 0.3074 - val_acc: 0.8794\n",
      "Epoch 3/10\n",
      "113000/113000 [==============================] - 11s 93us/step - loss: 0.3052 - acc: 0.8796 - val_loss: 0.3070 - val_acc: 0.8801\n",
      "Epoch 4/10\n",
      "113000/113000 [==============================] - 10s 92us/step - loss: 0.3050 - acc: 0.8800 - val_loss: 0.3071 - val_acc: 0.8794\n",
      "Epoch 5/10\n",
      "113000/113000 [==============================] - 10s 92us/step - loss: 0.3048 - acc: 0.8799 - val_loss: 0.3084 - val_acc: 0.8795\n",
      "Epoch 6/10\n",
      "113000/113000 [==============================] - 10s 91us/step - loss: 0.3047 - acc: 0.8796 - val_loss: 0.3089 - val_acc: 0.8780\n",
      "Epoch 7/10\n",
      "113000/113000 [==============================] - 10s 91us/step - loss: 0.3044 - acc: 0.8804 - val_loss: 0.3080 - val_acc: 0.8791\n",
      "Epoch 8/10\n",
      "113000/113000 [==============================] - 10s 91us/step - loss: 0.3043 - acc: 0.8800 - val_loss: 0.3071 - val_acc: 0.8795\n",
      "Epoch 9/10\n",
      "113000/113000 [==============================] - 10s 91us/step - loss: 0.3042 - acc: 0.8805 - val_loss: 0.3084 - val_acc: 0.8793\n",
      "Epoch 10/10\n",
      "113000/113000 [==============================] - 10s 91us/step - loss: 0.3038 - acc: 0.8804 - val_loss: 0.3079 - val_acc: 0.8794\n"
     ]
    }
   ],
   "source": [
    "# training \n",
    "# training \n",
    "if train_ITK:\n",
    "    for i, (train, test) in enumerate(cv.split(X_no_HGTD, y)):\n",
    "        history = model2.fit(X_no_HGTD[train], y[train], epochs=10, batch_size=32,\n",
    "                            validation_data = (X_no_HGTD[test],y[test]))\n",
    "        y_pred_test = model2.predict(X_no_HGTD[test])\n",
    "        y_pred_train = model2.predict(X_no_HGTD[train])\n",
    "        fpr_test, tpr_test, thresholds_test = roc_curve(y[test], y_pred_test)        \n",
    "        fpr_train, tpr_train, thresholds_train = roc_curve(y[train], y_pred_train)\n",
    "        interp_fpr = np.interp(mean_tpr_hgtd, tpr_test, fpr_test)\n",
    "        interp_fpr[0] = 0.0\n",
    "        fprs_itk.append(interp_fpr)        \n",
    "        interp_fpr_train = np.interp(mean_tpr_hgtd, tpr_train, fpr_train)\n",
    "        interp_fpr_train[0] = 0.0\n",
    "        fprs_itk_train.append(interp_fpr_train)                \n",
    "        df_to_use.iloc[test,list(df_to_use.columns).index('y_pred_ITK')] = y_pred_test"
   ]
  },
  {
   "cell_type": "code",
   "execution_count": 36,
   "metadata": {},
   "outputs": [
    {
     "name": "stderr",
     "output_type": "stream",
     "text": [
      "/opt/anaconda3/lib/python3.7/site-packages/ipykernel_launcher.py:9: RuntimeWarning: divide by zero encountered in true_divide\n",
      "  if __name__ == '__main__':\n",
      "/opt/anaconda3/lib/python3.7/site-packages/ipykernel_launcher.py:11: RuntimeWarning: divide by zero encountered in true_divide\n",
      "  # This is added back by InteractiveShellApp.init_path()\n",
      "/opt/anaconda3/lib/python3.7/site-packages/ipykernel_launcher.py:17: RuntimeWarning: divide by zero encountered in true_divide\n"
     ]
    },
    {
     "data": {
      "image/png": "[encoded data removed]",
      "text/plain": [
       "<Figure size 432x288 with 1 Axes>"
      ]
     },
     "metadata": {
      "needs_background": "light"
     },
     "output_type": "display_data"
    }
   ],
   "source": [
    "# ITK plot\n",
    "if train_ITK:\n",
    "    fig, ax = plt.subplots()\n",
    "    ax.plot([0, 1], [0, 1], linestyle='--', lw=2, color='r',\n",
    "            label='Chance', alpha=.8)\n",
    "    mean_fpr_itk = np.mean(fprs_itk, axis=0)\n",
    "    mean_fpr_itk[-1] = 1.0\n",
    "    for f in fprs_itk:\n",
    "        ax.plot(mean_tpr_hgtd, 1./f)\n",
    "    mean_auc_itk = auc(mean_fpr_itk, mean_tpr_hgtd)\n",
    "    ax.plot(mean_tpr_hgtd, 1./mean_fpr_itk, color='b',\n",
    "            label=r'ITK Mean ROC',\n",
    "            lw=2, alpha=.8)\n",
    "    std_fpr_itk = np.std(fprs_itk, axis=0)\n",
    "    fprs_upper_itk = np.minimum(mean_fpr_itk + std_fpr_itk, 1)\n",
    "    fprs_lower_itk = np.maximum(mean_fpr_itk - std_fpr_itk, 0)\n",
    "    ax.fill_between(mean_tpr_hgtd, 1./fprs_lower_itk, 1./fprs_upper_itk, color='grey', alpha=.2,\n",
    "                    label=r'$\\pm$ 1 std. dev.')\n",
    "    #ax.set(xlim=[-0.05, 1.05], ylim=[-0.05, 1.05],\n",
    "    #       title=\"Receiver operating characteristic example\")\n",
    "    ax.set(xlim=[0.55,1], ylim=[0, 200])\n",
    "    ax.legend(loc=\"lower right\")\n",
    "    plt.ylabel('Light rejection')\n",
    "    plt.xlabel('B-jet efficiency')\n",
    "    plt.savefig('../plots/'+name_fig+'_ITK_roc.png',bbox_inches='tight')\n",
    "    plt.show()"
   ]
  },
  {
   "cell_type": "code",
   "execution_count": 37,
   "metadata": {},
   "outputs": [
    {
     "data": {
      "text/plain": [
       "'\\ny_pred_test_no_HGTD = model2.predict(X_test_no_HGTD)\\ny_pred_train_no_HGTD = model2.predict(X_train_no_HGTD)\\n\\nfpr_test_no_HGTD, tpr_test_no_HGTD, thresholds_test_no_HGTD = roc_curve(y_test, y_pred_test_no_HGTD)\\nfpr_train_no_HGTD, tpr_train_no_HGTD, thresholds_train_no_HGTD = roc_curve(y_train, y_pred_train_no_HGTD)\\n'"
      ]
     },
     "execution_count": 37,
     "metadata": {},
     "output_type": "execute_result"
    }
   ],
   "source": [
    "# Prediction\n",
    "'''\n",
    "y_pred_test_no_HGTD = model2.predict(X_test_no_HGTD)\n",
    "y_pred_train_no_HGTD = model2.predict(X_train_no_HGTD)\n",
    "\n",
    "fpr_test_no_HGTD, tpr_test_no_HGTD, thresholds_test_no_HGTD = roc_curve(y_test, y_pred_test_no_HGTD)\n",
    "fpr_train_no_HGTD, tpr_train_no_HGTD, thresholds_train_no_HGTD = roc_curve(y_train, y_pred_train_no_HGTD)\n",
    "'''"
   ]
  },
  {
   "cell_type": "code",
   "execution_count": 41,
   "metadata": {
    "scrolled": true
   },
   "outputs": [
    {
     "name": "stderr",
     "output_type": "stream",
     "text": [
      "/opt/anaconda3/lib/python3.7/site-packages/ipykernel_launcher.py:15: RuntimeWarning: divide by zero encountered in true_divide\n",
      "  from ipykernel import kernelapp as app\n",
      "/opt/anaconda3/lib/python3.7/site-packages/ipykernel_launcher.py:17: RuntimeWarning: divide by zero encountered in true_divide\n",
      "/opt/anaconda3/lib/python3.7/site-packages/ipykernel_launcher.py:35: RuntimeWarning: divide by zero encountered in true_divide\n",
      "/opt/anaconda3/lib/python3.7/site-packages/ipykernel_launcher.py:35: RuntimeWarning: invalid value encountered in true_divide\n"
     ]
    },
    {
     "data": {
      "image/png": "[encoded data removed]",
      "text/plain": [
       "<Figure size 432x288 with 2 Axes>"
      ]
     },
     "metadata": {
      "needs_background": "light"
     },
     "output_type": "display_data"
    }
   ],
   "source": [
    "gs = gridspec.GridSpec(2, 1,\n",
    "                       height_ratios=[3,1],\n",
    "                       hspace=0.10)\n",
    "ax1 = plt.subplot(gs[0])\n",
    "\n",
    "plt.figure(1)\n",
    "plt.text(0.02, 0.75, r'$\\mathbf{ATLAS}$ Simulation Internal', size='large',transform=ax1.transAxes)\n",
    "plt.text(0.02, 0.65, r'NN ('+tagger+' input), eta 2.5-4', size='large',transform=ax1.transAxes)\n",
    "if use_truth:\n",
    "    plt.text(0.02, 0.55, r'trk time: TruthTrackTimePrimariesAcc', size='large',transform=ax1.transAxes)\n",
    "else:\n",
    "    plt.text(0.02, 0.55, r'trk time: TrackTimePFTQv05', size='large',transform=ax1.transAxes)\n",
    "plt.plot([0, 1], [0, 1], 'k--')\n",
    "#plt.plot(tpr_train_no_HGTD, 1./fpr_train_no_HGTD, label='train_no_HGTD')\n",
    "plt.plot(mean_tpr_hgtd, 1./mean_fpr_itk, label='validation - ITK only')\n",
    "#plt.plot(tpr_train, 1./fpr_train, label='train')\n",
    "plt.plot(mean_tpr_hgtd, 1./mean_fpr_hgtd, label='validation - HGTD')\n",
    "plt.ylabel('Light rejection')\n",
    "plt.title('ROC curve')\n",
    "plt.legend(loc='best')\n",
    "#plt.yscale('log')\n",
    "plt.xlim(0.50,1)\n",
    "plt.ylim(1,300)\n",
    "plt.grid(True,linestyle='--')\n",
    "plt.gca().set_xticklabels(['']*10)\n",
    "\n",
    "ax2 = plt.subplot(gs[1])\n",
    "plt.xlim(0.50,1)\n",
    "plt.ylim(0.3,1.7)\n",
    "zoom = 1\n",
    "if zoom:\n",
    "    plt.ylim(0.8,1.2)\n",
    "#np.interp([0, 1, 1.5, 2.72, 3.14], xp, fp)\n",
    "#one_over_fpr_test_plot = np.interp(tpr_test_no_HGTD, tpr_test, one_over_fpr_test)\n",
    "ljr_ratio = np.divide(1./mean_fpr_hgtd, 1./mean_fpr_itk)\n",
    "plt.plot(mean_tpr_hgtd, ljr_ratio)\n",
    "plt.grid(True,linestyle='--')\n",
    "plt.xlabel('B-jet efficiency')\n",
    "if zoom:\n",
    "    plt.savefig('../plots/'+name_fig+'_comparison_zoom.png',bbox_inches='tight')\n",
    "else:\n",
    "    plt.savefig('../plots/'+name_fig+'_comparison.png',bbox_inches='tight')\n",
    "\n",
    "plt.show()"
   ]
  },
  {
   "cell_type": "code",
   "execution_count": 39,
   "metadata": {},
   "outputs": [
    {
     "name": "stderr",
     "output_type": "stream",
     "text": [
      "/opt/anaconda3/lib/python3.7/site-packages/ipykernel_launcher.py:5: RuntimeWarning: divide by zero encountered in true_divide\n",
      "  \"\"\"\n",
      "/opt/anaconda3/lib/python3.7/site-packages/ipykernel_launcher.py:6: RuntimeWarning: divide by zero encountered in true_divide\n",
      "  \n"
     ]
    },
    {
     "data": {
      "image/png": "[encoded data removed]",
      "text/plain": [
       "<Figure size 432x288 with 1 Axes>"
      ]
     },
     "metadata": {
      "needs_background": "light"
     },
     "output_type": "display_data"
    }
   ],
   "source": [
    "# plot to check overtraining\n",
    "if train_ITK:\n",
    "    plt.figure(1)\n",
    "    plt.plot([0, 1], [0, 1], 'k--')\n",
    "    plt.plot(tpr_train, 1./fpr_train, label='ITK-train')\n",
    "    plt.plot(tpr_test, 1./fpr_test, label='ITK-validation')\n",
    "    plt.title('ROC curve')\n",
    "    plt.legend(loc='best')\n",
    "    plt.yscale('log')\n",
    "    plt.xlim(0.55,1)\n",
    "    plt.grid(True)\n",
    "    plt.savefig('../plots/'+name_fig+'_ITK_train_test.png',bbox_inches='tight')\n",
    "    plt.show()"
   ]
  },
  {
   "cell_type": "code",
   "execution_count": 40,
   "metadata": {},
   "outputs": [],
   "source": [
    "df_to_use.to_csv('../output/'+name_fig+'.csv')"
   ]
  },
  {
   "cell_type": "code",
   "execution_count": null,
   "metadata": {},
   "outputs": [],
   "source": []
  },
  {
   "cell_type": "code",
   "execution_count": null,
   "metadata": {},
   "outputs": [],
   "source": []
  }
 ],
 "metadata": {
  "kernelspec": {
   "display_name": "Python 3",
   "language": "python",
   "name": "python3"
  },
  "language_info": {
   "codemirror_mode": {
    "name": "ipython",
    "version": 3
   },
   "file_extension": ".py",
   "mimetype": "text/x-python",
   "name": "python",
   "nbconvert_exporter": "python",
   "pygments_lexer": "ipython3",
   "version": "3.7.4"
  }
 },
 "nbformat": 4,
 "nbformat_minor": 2
}
