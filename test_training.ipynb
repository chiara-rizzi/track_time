{
 "cells": [
  {
   "cell_type": "code",
   "execution_count": 635,
   "metadata": {},
   "outputs": [],
   "source": [
    "import pandas as pd\n",
    "import numpy as np\n",
    "import re # not really used atm\n",
    "from datetime import datetime\n",
    "from matplotlib import pyplot as plt\n",
    "import matplotlib.gridspec as gridspec\n",
    "import seaborn as sns"
   ]
  },
  {
   "cell_type": "code",
   "execution_count": 636,
   "metadata": {},
   "outputs": [],
   "source": [
    "from sklearn.preprocessing import StandardScaler # to scale data\n",
    "from sklearn.model_selection import train_test_split\n",
    "from sklearn.metrics import roc_curve,roc_auc_score,accuracy_score\n",
    "\n",
    "# NN model\n",
    "import keras\n",
    "from keras.models import Sequential\n",
    "from keras.models import load_model\n",
    "from keras.layers import Dense\n",
    "from keras.optimizers import SGD #test keras\n"
   ]
  },
  {
   "cell_type": "code",
   "execution_count": 637,
   "metadata": {},
   "outputs": [],
   "source": [
    "pd.set_option('display.max_rows', 50)\n",
    "pd.set_option('display.max_columns', 60)\n",
    "pd.set_option('display.width', None)\n",
    "pd.set_option('display.max_colwidth', -1)"
   ]
  },
  {
   "cell_type": "code",
   "execution_count": 638,
   "metadata": {},
   "outputs": [],
   "source": [
    "def check_null(df):\n",
    "    print('\\ncheck null values \\n')\n",
    "    print('shape df: ', df.shape, '\\n')\n",
    "    ok_columns = [col for col in df if df[col].isna().sum() == 0]\n",
    "    print('ok columns: ', ok_columns, '\\n')\n",
    "    for col in df:\n",
    "        if df[col].isna().sum() >0:\n",
    "            print(col, ':', df[col].isna().sum())"
   ]
  },
  {
   "cell_type": "code",
   "execution_count": 639,
   "metadata": {},
   "outputs": [],
   "source": [
    "df_original = pd.read_csv('../input/output_print_1683.csv')"
   ]
  },
  {
   "cell_type": "code",
   "execution_count": 904,
   "metadata": {},
   "outputs": [],
   "source": [
    "# define some useful variables\n",
    "time_str = 'time_truth' \n",
    "#time_str = 'time_truth' \n",
    "use_t0 = 1\n",
    "n_trk_used = 10"
   ]
  },
  {
   "cell_type": "code",
   "execution_count": 905,
   "metadata": {},
   "outputs": [],
   "source": [
    "# remove rows with NaN (originating e.g. from empty lines in input file)\n",
    "df_original = df_original[df_original['flav'].notna()] "
   ]
  },
  {
   "cell_type": "code",
   "execution_count": 906,
   "metadata": {},
   "outputs": [],
   "source": [
    "# check_null(df)"
   ]
  },
  {
   "cell_type": "code",
   "execution_count": 907,
   "metadata": {},
   "outputs": [
    {
     "data": {
      "text/plain": [
       "<matplotlib.collections.PathCollection at 0x141163c10>"
      ]
     },
     "execution_count": 907,
     "metadata": {},
     "output_type": "execute_result"
    },
    {
     "data": {
      "image/png": "[encoded data removed]",
      "text/plain": [
       "<Figure size 432x288 with 1 Axes>"
      ]
     },
     "metadata": {
      "needs_background": "light"
     },
     "output_type": "display_data"
    }
   ],
   "source": [
    "plt.scatter(df_original['flav'].value_counts().index, df_original['flav'].value_counts())"
   ]
  },
  {
   "cell_type": "code",
   "execution_count": 908,
   "metadata": {},
   "outputs": [],
   "source": [
    "# do not consider PU jets\n",
    "df = df_original[(df_original['truth_match']>0) & (df_original['quark_match']>0)]\n",
    "# keep jets with pt>20 GeV, 2.5<eta<4\n",
    "df = df[(df['jet_pt']>20) & (df['jet_eta']>2.5) & (df['jet_eta']<4)]\n",
    "#df = df_original[(df_original['ele_match']<1)]\n",
    "# for the moment I want to focus on b-vs-light --> keep only real light and b, and put target to flav=5\n",
    "df = df[(df['flav']==0) | (df['flav']==5) ]\n",
    "df['target'] = (df['flav'] == 5 ).astype(int)"
   ]
  },
  {
   "cell_type": "code",
   "execution_count": 909,
   "metadata": {},
   "outputs": [],
   "source": [
    "# df[['truth_match','quark_match','ele_match']].describe()"
   ]
  },
  {
   "cell_type": "code",
   "execution_count": 910,
   "metadata": {},
   "outputs": [
    {
     "data": {
      "text/plain": [
       "count    82976.000000\n",
       "mean     0.330144    \n",
       "std      0.470267    \n",
       "min      0.000000    \n",
       "25%      0.000000    \n",
       "50%      0.000000    \n",
       "75%      1.000000    \n",
       "max      1.000000    \n",
       "Name: target, dtype: float64"
      ]
     },
     "execution_count": 910,
     "metadata": {},
     "output_type": "execute_result"
    }
   ],
   "source": [
    "# check how many events and the fraction of b-jets\n",
    "df['target'].describe()"
   ]
  },
  {
   "cell_type": "code",
   "execution_count": 911,
   "metadata": {},
   "outputs": [],
   "source": [
    "df = df.replace([-999],[0])"
   ]
  },
  {
   "cell_type": "code",
   "execution_count": 912,
   "metadata": {},
   "outputs": [],
   "source": [
    "# change the track pT into fraction of the jet_pt\n",
    "# change time into time-t0 (if no t0, t0 is set to zero so no difference)\n",
    "for i in range(25):\n",
    "    col = 'pt_trk'+'_'+str(i)\n",
    "    df[col] = df[col]/df['jet_pt']\n",
    "    if use_t0:\n",
    "        col = time_str+'_'+str(i)\n",
    "        df[col] = df[col]-df['t0']"
   ]
  },
  {
   "cell_type": "code",
   "execution_count": 913,
   "metadata": {},
   "outputs": [],
   "source": [
    "df['avg_trk_time'] = 0\n",
    "df.loc[df['n_trk']>0,'avg_trk_time'] = (sum(df[time_str+'_'+str(i)] for i in range(25)))/df['n_trk']"
   ]
  },
  {
   "cell_type": "code",
   "execution_count": 914,
   "metadata": {},
   "outputs": [],
   "source": [
    "for i in range(25):\n",
    "    if use_t0:\n",
    "        df.loc[df['has_t0']<1,'time'+'_'+str(i)] = df[time_str+'_'+str(i)] - df['avg_trk_time']\n",
    "    else:\n",
    "        df['time'+'_'+str(i)] = df[time_str+'_'+str(i)] - df['avg_trk_time']"
   ]
  },
  {
   "cell_type": "code",
   "execution_count": 915,
   "metadata": {},
   "outputs": [],
   "source": [
    "#check_null(df)"
   ]
  },
  {
   "cell_type": "code",
   "execution_count": 916,
   "metadata": {},
   "outputs": [],
   "source": [
    "# df[['flav']+['pt_trk'+'_'+str(i) for i in range(n_trk_used)]].head()\n",
    "# pfff, these are not pt ordered :( Probably pt-ordeered before calibration"
   ]
  },
  {
   "cell_type": "code",
   "execution_count": 917,
   "metadata": {},
   "outputs": [],
   "source": [
    "# useful to make list of column names\n",
    "trk_info = [\"ValZ0\",\"SigZ0\",\"ValD0\",\"SigZ0\",\"IP3D_trk_pb\",\"IP3D_trk_pu\",\"IP3D_trk_pc\",\"pt_trk\",\"has_time\",\"time\",\"nhits\",\"has_time_truth\",\"time_truth\",\"nhits_truth\"]"
   ]
  },
  {
   "cell_type": "code",
   "execution_count": 918,
   "metadata": {},
   "outputs": [],
   "source": [
    "columns_to_use = []\n",
    "trk_info_to_keep = [\"IP3D_trk_pb\",\"IP3D_trk_pu\", \"has_\"+time_str, time_str,\"nhits\"]\n",
    "for i in range(20):\n",
    "    for info in trk_info_to_keep:\n",
    "        columns_to_use.append(info+'_'+str(i))"
   ]
  },
  {
   "cell_type": "code",
   "execution_count": 919,
   "metadata": {},
   "outputs": [],
   "source": [
    "columns_to_use_df = columns_to_use[:]\n",
    "columns_to_use_df += ['target']\n",
    "if use_t0:\n",
    "    columns_to_use_df += ['has_t0','t0']\n",
    "df_to_use = df[columns_to_use_df]"
   ]
  },
  {
   "cell_type": "code",
   "execution_count": 920,
   "metadata": {},
   "outputs": [],
   "source": [
    "#columns_to_use.remove('target')\n",
    "# columns_to_use"
   ]
  },
  {
   "cell_type": "code",
   "execution_count": 921,
   "metadata": {},
   "outputs": [],
   "source": [
    "# convert df into arrays\n",
    "if use_t0:\n",
    "    X = df_to_use[columns_to_use+['has_t0','t0']].values\n",
    "else:\n",
    "    X = df_to_use[columns_to_use].values\n",
    "y = df_to_use['target'].values\n",
    "# scaling\n",
    "sc = StandardScaler()\n",
    "X = sc.fit_transform(X) "
   ]
  },
  {
   "cell_type": "code",
   "execution_count": 922,
   "metadata": {},
   "outputs": [],
   "source": [
    "X_train,X_test,y_train,y_test = train_test_split(X,y,test_size = 0.25)"
   ]
  },
  {
   "cell_type": "code",
   "execution_count": 923,
   "metadata": {},
   "outputs": [
    {
     "name": "stdout",
     "output_type": "stream",
     "text": [
      "Train on 62232 samples, validate on 20744 samples\n",
      "Epoch 1/10\n",
      "62232/62232 [==============================] - 5s 81us/step - loss: 0.3258 - acc: 0.8708 - val_loss: 0.3165 - val_acc: 0.8750\n",
      "Epoch 2/10\n",
      "62232/62232 [==============================] - 5s 78us/step - loss: 0.3081 - acc: 0.8787 - val_loss: 0.3112 - val_acc: 0.8785\n",
      "Epoch 3/10\n",
      "62232/62232 [==============================] - 5s 82us/step - loss: 0.3023 - acc: 0.8800 - val_loss: 0.3097 - val_acc: 0.8794\n",
      "Epoch 4/10\n",
      "62232/62232 [==============================] - 5s 83us/step - loss: 0.3005 - acc: 0.8815 - val_loss: 0.3106 - val_acc: 0.8801\n",
      "Epoch 5/10\n",
      "62232/62232 [==============================] - 5s 83us/step - loss: 0.2976 - acc: 0.8813 - val_loss: 0.3099 - val_acc: 0.8785\n",
      "Epoch 6/10\n",
      "62232/62232 [==============================] - 5s 88us/step - loss: 0.2951 - acc: 0.8831 - val_loss: 0.3083 - val_acc: 0.8797\n",
      "Epoch 7/10\n",
      "62232/62232 [==============================] - 5s 86us/step - loss: 0.2925 - acc: 0.8840 - val_loss: 0.3103 - val_acc: 0.8801\n",
      "Epoch 8/10\n",
      "62232/62232 [==============================] - 5s 85us/step - loss: 0.2904 - acc: 0.8855 - val_loss: 0.3105 - val_acc: 0.8790\n",
      "Epoch 9/10\n",
      "62232/62232 [==============================] - 5s 87us/step - loss: 0.2880 - acc: 0.8866 - val_loss: 0.3144 - val_acc: 0.8769\n",
      "Epoch 10/10\n",
      "62232/62232 [==============================] - 6s 89us/step - loss: 0.2866 - acc: 0.8865 - val_loss: 0.3137 - val_acc: 0.8781\n"
     ]
    }
   ],
   "source": [
    "# Neural network\n",
    "model = Sequential() # creating model sequentially (each layer takes as input output of previous layer)\n",
    "model.add(Dense(300, input_dim=len(columns_to_use)+(2*use_t0), activation='relu')) # Dense: fully connected layer\n",
    "# model.add(Dense(50, activation='relu'))\n",
    "# model.add(Dense(20, activation='relu')) \n",
    "model.add(Dense(1, activation='sigmoid')) # chiara: check what's the best activation function for single-value output\n",
    "# loss function and optimizer\n",
    "#opt = SGD(lr=0.001)\n",
    "#model.compile(loss = \"binary_crossentropy\", optimizer = opt, metrics=['accuracy'])\n",
    "#model.compile(loss='binary_crossentropy', optimizer='adam', metrics=['accuracy'])\n",
    "model.compile(loss='binary_crossentropy', optimizer='adam', metrics=['acc'])\n",
    "# training \n",
    "history = model.fit(X_train, y_train, epochs=10, batch_size=50, # it was 100 epochs\n",
    "                    validation_data = (X_test,y_test)) # show accuracy on test data after every epoch"
   ]
  },
  {
   "cell_type": "code",
   "execution_count": 924,
   "metadata": {},
   "outputs": [],
   "source": [
    "# Prediction\n",
    "y_pred_test = model.predict(X_test)\n",
    "y_pred_train = model.predict(X_train)\n",
    "\n",
    "fpr_test, tpr_test, thresholds_test = roc_curve(y_test, y_pred_test)\n",
    "fpr_train, tpr_train, thresholds_train = roc_curve(y_train, y_pred_train)"
   ]
  },
  {
   "cell_type": "code",
   "execution_count": 925,
   "metadata": {},
   "outputs": [
    {
     "name": "stderr",
     "output_type": "stream",
     "text": [
      "/opt/anaconda3/lib/python3.7/site-packages/ipykernel_launcher.py:3: RuntimeWarning: divide by zero encountered in true_divide\n",
      "  This is separate from the ipykernel package so we can avoid doing imports until\n",
      "/opt/anaconda3/lib/python3.7/site-packages/ipykernel_launcher.py:4: RuntimeWarning: divide by zero encountered in true_divide\n",
      "  after removing the cwd from sys.path.\n"
     ]
    },
    {
     "data": {
      "image/png": "[encoded data removed]",
      "text/plain": [
       "<Figure size 432x288 with 1 Axes>"
      ]
     },
     "metadata": {
      "needs_background": "light"
     },
     "output_type": "display_data"
    }
   ],
   "source": [
    "plt.figure(1)\n",
    "plt.plot([0, 1], [0, 1], 'k--')\n",
    "plt.plot(tpr_train, 1./fpr_train, label='train')\n",
    "plt.plot(tpr_test, 1./fpr_test, label='validation')\n",
    "#plt.xlabel('False positive rate')\n",
    "#plt.ylabel('True positive rate')\n",
    "plt.title('ROC curve')\n",
    "plt.legend(loc='best')\n",
    "plt.yscale('log')\n",
    "plt.xlim(0.55,1)\n",
    "plt.grid(True)\n",
    "plt.show()"
   ]
  },
  {
   "cell_type": "code",
   "execution_count": 926,
   "metadata": {},
   "outputs": [
    {
     "data": {
      "text/plain": [
       "numpy.ndarray"
      ]
     },
     "execution_count": 926,
     "metadata": {},
     "output_type": "execute_result"
    }
   ],
   "source": [
    "type(X_train)"
   ]
  },
  {
   "cell_type": "code",
   "execution_count": 927,
   "metadata": {},
   "outputs": [
    {
     "data": {
      "text/plain": [
       "(62232, 102)"
      ]
     },
     "execution_count": 927,
     "metadata": {},
     "output_type": "execute_result"
    }
   ],
   "source": [
    "X_train.shape"
   ]
  },
  {
   "cell_type": "code",
   "execution_count": 928,
   "metadata": {},
   "outputs": [],
   "source": [
    "test = range(5*n_trk_used)"
   ]
  },
  {
   "cell_type": "code",
   "execution_count": 929,
   "metadata": {},
   "outputs": [],
   "source": [
    "test2 = [i for i in test if i % 5 < 2]"
   ]
  },
  {
   "cell_type": "code",
   "execution_count": 930,
   "metadata": {},
   "outputs": [],
   "source": [
    "X_train_no_HGTD = X_train[:,test2]\n",
    "X_test_no_HGTD = X_test[:,test2]"
   ]
  },
  {
   "cell_type": "code",
   "execution_count": 931,
   "metadata": {},
   "outputs": [
    {
     "data": {
      "text/plain": [
       "(62232, 20)"
      ]
     },
     "execution_count": 931,
     "metadata": {},
     "output_type": "execute_result"
    }
   ],
   "source": [
    "X_train_no_HGTD.shape"
   ]
  },
  {
   "cell_type": "code",
   "execution_count": 932,
   "metadata": {},
   "outputs": [
    {
     "name": "stdout",
     "output_type": "stream",
     "text": [
      "Train on 62232 samples, validate on 20744 samples\n",
      "Epoch 1/10\n",
      "62232/62232 [==============================] - 5s 74us/step - loss: 0.3265 - acc: 0.8706 - val_loss: 0.3199 - val_acc: 0.8732\n",
      "Epoch 2/10\n",
      "62232/62232 [==============================] - 4s 71us/step - loss: 0.3203 - acc: 0.8738 - val_loss: 0.3186 - val_acc: 0.8733\n",
      "Epoch 3/10\n",
      "62232/62232 [==============================] - 4s 70us/step - loss: 0.3191 - acc: 0.8731 - val_loss: 0.3191 - val_acc: 0.8737\n",
      "Epoch 4/10\n",
      "62232/62232 [==============================] - 4s 69us/step - loss: 0.3182 - acc: 0.8735 - val_loss: 0.3171 - val_acc: 0.8741\n",
      "Epoch 5/10\n",
      "62232/62232 [==============================] - 4s 69us/step - loss: 0.3173 - acc: 0.8751 - val_loss: 0.3173 - val_acc: 0.8742\n",
      "Epoch 6/10\n",
      "62232/62232 [==============================] - 4s 67us/step - loss: 0.3170 - acc: 0.8748 - val_loss: 0.3174 - val_acc: 0.8724\n",
      "Epoch 7/10\n",
      "62232/62232 [==============================] - 4s 66us/step - loss: 0.3167 - acc: 0.8747 - val_loss: 0.3203 - val_acc: 0.8718\n",
      "Epoch 8/10\n",
      "62232/62232 [==============================] - 4s 65us/step - loss: 0.3163 - acc: 0.8754 - val_loss: 0.3179 - val_acc: 0.8725\n",
      "Epoch 9/10\n",
      "62232/62232 [==============================] - 4s 66us/step - loss: 0.3160 - acc: 0.8749 - val_loss: 0.3182 - val_acc: 0.8730\n",
      "Epoch 10/10\n",
      "62232/62232 [==============================] - 4s 66us/step - loss: 0.3155 - acc: 0.8757 - val_loss: 0.3168 - val_acc: 0.8746\n"
     ]
    }
   ],
   "source": [
    "# Neural network\n",
    "model2 = Sequential() # creating model sequentially (each layer takes as input output of previous layer)\n",
    "model2.add(Dense(300, input_dim=len(test2), activation='relu')) # Dense: fully connected layer\n",
    "# model.add(Dense(50, activation='relu'))\n",
    "# model.add(Dense(20, activation='relu')) \n",
    "model2.add(Dense(1, activation='sigmoid')) # chiara: check what's the best activation function for single-value output\n",
    "model2.compile(loss='binary_crossentropy', optimizer='adam', metrics=['acc'])\n",
    "# training \n",
    "history = model2.fit(X_train_no_HGTD, y_train, epochs=10, batch_size=50, # it was 100 epochs\n",
    "                    validation_data = (X_test_no_HGTD,y_test)) # show accuracy on test data after every epoch"
   ]
  },
  {
   "cell_type": "code",
   "execution_count": 933,
   "metadata": {},
   "outputs": [],
   "source": [
    "# Prediction\n",
    "y_pred_test_no_HGTD = model2.predict(X_test_no_HGTD)\n",
    "y_pred_train_no_HGTD = model2.predict(X_train_no_HGTD)\n",
    "\n",
    "fpr_test_no_HGTD, tpr_test_no_HGTD, thresholds_test_no_HGTD = roc_curve(y_test, y_pred_test_no_HGTD)\n",
    "fpr_train_no_HGTD, tpr_train_no_HGTD, thresholds_train_no_HGTD = roc_curve(y_train, y_pred_train_no_HGTD)"
   ]
  },
  {
   "cell_type": "code",
   "execution_count": 934,
   "metadata": {
    "scrolled": true
   },
   "outputs": [
    {
     "name": "stderr",
     "output_type": "stream",
     "text": [
      "/opt/anaconda3/lib/python3.7/site-packages/ipykernel_launcher.py:13: RuntimeWarning: divide by zero encountered in true_divide\n",
      "  del sys.path[0]\n",
      "/opt/anaconda3/lib/python3.7/site-packages/ipykernel_launcher.py:14: RuntimeWarning: divide by zero encountered in true_divide\n",
      "  \n",
      "/opt/anaconda3/lib/python3.7/site-packages/ipykernel_launcher.py:32: RuntimeWarning: invalid value encountered in true_divide\n"
     ]
    },
    {
     "data": {
      "image/png": "[encoded data removed]",
      "text/plain": [
       "<Figure size 432x288 with 2 Axes>"
      ]
     },
     "metadata": {
      "needs_background": "light"
     },
     "output_type": "display_data"
    }
   ],
   "source": [
    "gs = gridspec.GridSpec(2, 1,\n",
    "                       height_ratios=[3,1],\n",
    "                       hspace=0.10)\n",
    "ax1 = plt.subplot(gs[0])\n",
    "\n",
    "plt.figure(1)\n",
    "plt.text(0.02, 0.75, r'$\\mathbf{ATLAS}$ Simulation Internal', size='large',transform=ax1.transAxes)\n",
    "plt.text(0.02, 0.65, r'NN (IP3D input), eta 2.5-4', size='large',transform=ax1.transAxes)\n",
    "plt.text(0.02, 0.55, r'trk time: TruthTrackTimePrimariesAcc', size='large',transform=ax1.transAxes)\n",
    "plt.text(0.17, 0.45, r' (TrackTimePFORv02 for t0)', size='large',transform=ax1.transAxes)\n",
    "plt.plot([0, 1], [0, 1], 'k--')\n",
    "#plt.plot(tpr_train_no_HGTD, 1./fpr_train_no_HGTD, label='train_no_HGTD')\n",
    "one_over_fpr_test_no_HGTD = 1./fpr_test_no_HGTD\n",
    "one_over_fpr_test = 1./fpr_test\n",
    "plt.plot(tpr_test_no_HGTD, one_over_fpr_test_no_HGTD, label='validation - ITK only')\n",
    "#plt.plot(tpr_train, 1./fpr_train, label='train')\n",
    "plt.plot(tpr_test, one_over_fpr_test, label='validation - HGTD')\n",
    "plt.ylabel('Light rejection')\n",
    "plt.title('ROC curve')\n",
    "plt.legend(loc='best')\n",
    "#plt.yscale('log')\n",
    "plt.xlim(0.55,1)\n",
    "plt.ylim(1,200)\n",
    "plt.grid(True,linestyle='--')\n",
    "plt.gca().set_xticklabels(['']*10)\n",
    "\n",
    "ax2 = plt.subplot(gs[1])\n",
    "plt.xlim(0.55,1)\n",
    "plt.ylim(0.6,1.4)\n",
    "#np.interp([0, 1, 1.5, 2.72, 3.14], xp, fp)\n",
    "one_over_fpr_test_plot = np.interp(tpr_test_no_HGTD, tpr_test, one_over_fpr_test)\n",
    "ljr_ratio = np.divide(one_over_fpr_test_plot, one_over_fpr_test_no_HGTD)\n",
    "plt.plot(tpr_test_no_HGTD, ljr_ratio)\n",
    "plt.grid(True,linestyle='--')\n",
    "plt.xlabel('B-jet efficiency')\n",
    "\n",
    "plt.show()"
   ]
  },
  {
   "cell_type": "code",
   "execution_count": null,
   "metadata": {},
   "outputs": [],
   "source": []
  },
  {
   "cell_type": "code",
   "execution_count": null,
   "metadata": {},
   "outputs": [],
   "source": []
  }
 ],
 "metadata": {
  "kernelspec": {
   "display_name": "Python 3",
   "language": "python",
   "name": "python3"
  },
  "language_info": {
   "codemirror_mode": {
    "name": "ipython",
    "version": 3
   },
   "file_extension": ".py",
   "mimetype": "text/x-python",
   "name": "python",
   "nbconvert_exporter": "python",
   "pygments_lexer": "ipython3",
   "version": "3.7.4"
  }
 },
 "nbformat": 4,
 "nbformat_minor": 2
}
