{
 "cells": [
  {
   "cell_type": "code",
   "execution_count": 279,
   "metadata": {},
   "outputs": [],
   "source": [
    "import pandas as pd\n",
    "import numpy as np\n",
    "import re # not really used atm\n",
    "from datetime import datetime\n",
    "from matplotlib import pyplot as plt\n",
    "import seaborn as sns"
   ]
  },
  {
   "cell_type": "code",
   "execution_count": 280,
   "metadata": {},
   "outputs": [],
   "source": [
    "from sklearn.preprocessing import StandardScaler # to scale data\n",
    "from sklearn.model_selection import train_test_split\n",
    "from sklearn.metrics import roc_curve,roc_auc_score,accuracy_score\n",
    "\n",
    "# NN model\n",
    "import keras\n",
    "from keras.models import Sequential\n",
    "from keras.models import load_model\n",
    "from keras.layers import Dense\n",
    "from keras.optimizers import SGD #test keras\n"
   ]
  },
  {
   "cell_type": "code",
   "execution_count": 281,
   "metadata": {},
   "outputs": [],
   "source": [
    "pd.set_option('display.max_rows', 50)\n",
    "pd.set_option('display.max_columns', 60)\n",
    "pd.set_option('display.width', None)\n",
    "pd.set_option('display.max_colwidth', -1)"
   ]
  },
  {
   "cell_type": "code",
   "execution_count": 282,
   "metadata": {},
   "outputs": [],
   "source": [
    "def check_null(df):\n",
    "    print('\\ncheck null values \\n')\n",
    "    print('shape df: ', df.shape, '\\n')\n",
    "    ok_columns = [col for col in df if df[col].isna().sum() == 0]\n",
    "    print('ok columns: ', ok_columns, '\\n')\n",
    "    for col in df:\n",
    "        if df[col].isna().sum() >0:\n",
    "            print(col, ':', df[col].isna().sum())"
   ]
  },
  {
   "cell_type": "code",
   "execution_count": 283,
   "metadata": {},
   "outputs": [],
   "source": [
    "df_original = pd.read_csv('../input/output_print_1683.csv')"
   ]
  },
  {
   "cell_type": "code",
   "execution_count": 284,
   "metadata": {},
   "outputs": [],
   "source": [
    "# remove rows with NaN (originating e.g. from empty lines in input file)\n",
    "df_original = df_original[df_original['flav'].notna()] "
   ]
  },
  {
   "cell_type": "code",
   "execution_count": 285,
   "metadata": {},
   "outputs": [],
   "source": [
    "# check_null(df)"
   ]
  },
  {
   "cell_type": "code",
   "execution_count": 286,
   "metadata": {},
   "outputs": [
    {
     "data": {
      "text/plain": [
       "<matplotlib.collections.PathCollection at 0x15ab45490>"
      ]
     },
     "execution_count": 286,
     "metadata": {},
     "output_type": "execute_result"
    },
    {
     "data": {
      "image/png": "[encoded data removed]",
      "text/plain": [
       "<Figure size 432x288 with 1 Axes>"
      ]
     },
     "metadata": {
      "needs_background": "light"
     },
     "output_type": "display_data"
    }
   ],
   "source": [
    "plt.scatter(df_original['flav'].value_counts().index, df_original['flav'].value_counts())"
   ]
  },
  {
   "cell_type": "code",
   "execution_count": 342,
   "metadata": {},
   "outputs": [],
   "source": [
    "# do not consider PU jets\n",
    "df = df_original[(df_original['truth_match']>0) & (df_original['quark_match']>0)]\n",
    "#df = df_original[(df_original['ele_match']<1)]\n",
    "# for the moment I want to focus on b-vs-light --> keep only real light and b, and put target to flav=5\n",
    "df = df[(df['flav']==0) | (df['flav']==5) ]\n",
    "df['target'] = (df['flav'] == 5 ).astype(int)"
   ]
  },
  {
   "cell_type": "code",
   "execution_count": 343,
   "metadata": {},
   "outputs": [
    {
     "data": {
      "text/html": [
       "<div>\n",
       "<style scoped>\n",
       "    .dataframe tbody tr th:only-of-type {\n",
       "        vertical-align: middle;\n",
       "    }\n",
       "\n",
       "    .dataframe tbody tr th {\n",
       "        vertical-align: top;\n",
       "    }\n",
       "\n",
       "    .dataframe thead th {\n",
       "        text-align: right;\n",
       "    }\n",
       "</style>\n",
       "<table border=\"1\" class=\"dataframe\">\n",
       "  <thead>\n",
       "    <tr style=\"text-align: right;\">\n",
       "      <th></th>\n",
       "      <th>truth_match</th>\n",
       "      <th>quark_match</th>\n",
       "      <th>ele_match</th>\n",
       "    </tr>\n",
       "  </thead>\n",
       "  <tbody>\n",
       "    <tr>\n",
       "      <td>count</td>\n",
       "      <td>94128.0</td>\n",
       "      <td>94128.0</td>\n",
       "      <td>94128.000000</td>\n",
       "    </tr>\n",
       "    <tr>\n",
       "      <td>mean</td>\n",
       "      <td>1.0</td>\n",
       "      <td>1.0</td>\n",
       "      <td>0.058272</td>\n",
       "    </tr>\n",
       "    <tr>\n",
       "      <td>std</td>\n",
       "      <td>0.0</td>\n",
       "      <td>0.0</td>\n",
       "      <td>0.234258</td>\n",
       "    </tr>\n",
       "    <tr>\n",
       "      <td>min</td>\n",
       "      <td>1.0</td>\n",
       "      <td>1.0</td>\n",
       "      <td>0.000000</td>\n",
       "    </tr>\n",
       "    <tr>\n",
       "      <td>25%</td>\n",
       "      <td>1.0</td>\n",
       "      <td>1.0</td>\n",
       "      <td>0.000000</td>\n",
       "    </tr>\n",
       "    <tr>\n",
       "      <td>50%</td>\n",
       "      <td>1.0</td>\n",
       "      <td>1.0</td>\n",
       "      <td>0.000000</td>\n",
       "    </tr>\n",
       "    <tr>\n",
       "      <td>75%</td>\n",
       "      <td>1.0</td>\n",
       "      <td>1.0</td>\n",
       "      <td>0.000000</td>\n",
       "    </tr>\n",
       "    <tr>\n",
       "      <td>max</td>\n",
       "      <td>1.0</td>\n",
       "      <td>1.0</td>\n",
       "      <td>1.000000</td>\n",
       "    </tr>\n",
       "  </tbody>\n",
       "</table>\n",
       "</div>"
      ],
      "text/plain": [
       "       truth_match  quark_match     ele_match\n",
       "count  94128.0      94128.0      94128.000000\n",
       "mean   1.0          1.0          0.058272    \n",
       "std    0.0          0.0          0.234258    \n",
       "min    1.0          1.0          0.000000    \n",
       "25%    1.0          1.0          0.000000    \n",
       "50%    1.0          1.0          0.000000    \n",
       "75%    1.0          1.0          0.000000    \n",
       "max    1.0          1.0          1.000000    "
      ]
     },
     "execution_count": 343,
     "metadata": {},
     "output_type": "execute_result"
    }
   ],
   "source": [
    "df[['truth_match','quark_match','ele_match']].describe()"
   ]
  },
  {
   "cell_type": "code",
   "execution_count": 344,
   "metadata": {},
   "outputs": [
    {
     "data": {
      "text/plain": [
       "count    94128.000000\n",
       "mean     0.348122    \n",
       "std      0.476377    \n",
       "min      0.000000    \n",
       "25%      0.000000    \n",
       "50%      0.000000    \n",
       "75%      1.000000    \n",
       "max      1.000000    \n",
       "Name: target, dtype: float64"
      ]
     },
     "execution_count": 344,
     "metadata": {},
     "output_type": "execute_result"
    }
   ],
   "source": [
    "# check how many events and the fraction of b-jets\n",
    "df['target'].describe()"
   ]
  },
  {
   "cell_type": "code",
   "execution_count": 345,
   "metadata": {},
   "outputs": [],
   "source": [
    "df = df.replace([-999],[0])"
   ]
  },
  {
   "cell_type": "code",
   "execution_count": 346,
   "metadata": {},
   "outputs": [],
   "source": [
    "# change the track pT into fraction of the jet_pt\n",
    "# change time into time-t0 (if no t0, t0 is set to zero so no difference)\n",
    "for i in range(25):\n",
    "    col = 'pt_trk'+'_'+str(i)\n",
    "    df[col] = df[col]/df['jet_pt']\n",
    "    col = 'time'+'_'+str(i)\n",
    "    df[col] = df[col]-df['t0']"
   ]
  },
  {
   "cell_type": "code",
   "execution_count": 347,
   "metadata": {},
   "outputs": [],
   "source": [
    "df['avg_trk_time'] = (sum(df['time'+'_'+str(i)] for i in range(25)))/df['n_trk']"
   ]
  },
  {
   "cell_type": "code",
   "execution_count": 348,
   "metadata": {},
   "outputs": [
    {
     "data": {
      "text/html": [
       "<div>\n",
       "<style scoped>\n",
       "    .dataframe tbody tr th:only-of-type {\n",
       "        vertical-align: middle;\n",
       "    }\n",
       "\n",
       "    .dataframe tbody tr th {\n",
       "        vertical-align: top;\n",
       "    }\n",
       "\n",
       "    .dataframe thead th {\n",
       "        text-align: right;\n",
       "    }\n",
       "</style>\n",
       "<table border=\"1\" class=\"dataframe\">\n",
       "  <thead>\n",
       "    <tr style=\"text-align: right;\">\n",
       "      <th></th>\n",
       "      <th>time_1</th>\n",
       "      <th>time_2</th>\n",
       "      <th>time_3</th>\n",
       "      <th>avg_trk_time</th>\n",
       "      <th>t0</th>\n",
       "    </tr>\n",
       "  </thead>\n",
       "  <tbody>\n",
       "    <tr>\n",
       "      <td>3</td>\n",
       "      <td>-0.204841</td>\n",
       "      <td>0.000667</td>\n",
       "      <td>0.000000</td>\n",
       "      <td>-0.032305</td>\n",
       "      <td>0.000000</td>\n",
       "    </tr>\n",
       "    <tr>\n",
       "      <td>4</td>\n",
       "      <td>0.000000</td>\n",
       "      <td>0.036975</td>\n",
       "      <td>-0.144176</td>\n",
       "      <td>-0.022542</td>\n",
       "      <td>0.000000</td>\n",
       "    </tr>\n",
       "    <tr>\n",
       "      <td>11</td>\n",
       "      <td>-0.005177</td>\n",
       "      <td>0.003688</td>\n",
       "      <td>0.329567</td>\n",
       "      <td>0.385841</td>\n",
       "      <td>-0.094547</td>\n",
       "    </tr>\n",
       "    <tr>\n",
       "      <td>12</td>\n",
       "      <td>-0.045804</td>\n",
       "      <td>0.094547</td>\n",
       "      <td>-0.025398</td>\n",
       "      <td>0.140651</td>\n",
       "      <td>-0.094547</td>\n",
       "    </tr>\n",
       "    <tr>\n",
       "      <td>13</td>\n",
       "      <td>-0.187377</td>\n",
       "      <td>0.095037</td>\n",
       "      <td>-0.075381</td>\n",
       "      <td>0.317621</td>\n",
       "      <td>-0.094547</td>\n",
       "    </tr>\n",
       "  </tbody>\n",
       "</table>\n",
       "</div>"
      ],
      "text/plain": [
       "      time_1    time_2    time_3  avg_trk_time        t0\n",
       "3  -0.204841  0.000667  0.000000 -0.032305      0.000000\n",
       "4   0.000000  0.036975 -0.144176 -0.022542      0.000000\n",
       "11 -0.005177  0.003688  0.329567  0.385841     -0.094547\n",
       "12 -0.045804  0.094547 -0.025398  0.140651     -0.094547\n",
       "13 -0.187377  0.095037 -0.075381  0.317621     -0.094547"
      ]
     },
     "execution_count": 348,
     "metadata": {},
     "output_type": "execute_result"
    }
   ],
   "source": [
    "df[['time_1','time_2','time_3','avg_trk_time','t0']].head()"
   ]
  },
  {
   "cell_type": "code",
   "execution_count": 349,
   "metadata": {},
   "outputs": [],
   "source": [
    "for i in range(25):\n",
    "    df.loc[df['has_t0']<1,'time'+'_'+str(i)] = df['time'+'_'+str(i)] - df['avg_trk_time']"
   ]
  },
  {
   "cell_type": "code",
   "execution_count": 350,
   "metadata": {},
   "outputs": [
    {
     "data": {
      "text/plain": [
       "count    94128.000000\n",
       "mean     7.251509    \n",
       "std      3.244954    \n",
       "min      0.000000    \n",
       "25%      5.000000    \n",
       "50%      7.000000    \n",
       "75%      9.000000    \n",
       "max      26.000000   \n",
       "Name: n_trk, dtype: float64"
      ]
     },
     "execution_count": 350,
     "metadata": {},
     "output_type": "execute_result"
    }
   ],
   "source": [
    "df['n_trk'].describe()"
   ]
  },
  {
   "cell_type": "code",
   "execution_count": 291,
   "metadata": {},
   "outputs": [
    {
     "data": {
      "text/html": [
       "<div>\n",
       "<style scoped>\n",
       "    .dataframe tbody tr th:only-of-type {\n",
       "        vertical-align: middle;\n",
       "    }\n",
       "\n",
       "    .dataframe tbody tr th {\n",
       "        vertical-align: top;\n",
       "    }\n",
       "\n",
       "    .dataframe thead th {\n",
       "        text-align: right;\n",
       "    }\n",
       "</style>\n",
       "<table border=\"1\" class=\"dataframe\">\n",
       "  <thead>\n",
       "    <tr style=\"text-align: right;\">\n",
       "      <th></th>\n",
       "      <th>flav</th>\n",
       "      <th>pt_trk_0</th>\n",
       "      <th>pt_trk_1</th>\n",
       "      <th>pt_trk_2</th>\n",
       "      <th>pt_trk_3</th>\n",
       "      <th>pt_trk_4</th>\n",
       "      <th>pt_trk_5</th>\n",
       "      <th>pt_trk_6</th>\n",
       "      <th>pt_trk_7</th>\n",
       "      <th>pt_trk_8</th>\n",
       "    </tr>\n",
       "  </thead>\n",
       "  <tbody>\n",
       "    <tr>\n",
       "      <td>0</td>\n",
       "      <td>0.0</td>\n",
       "      <td>0.212636</td>\n",
       "      <td>0.071751</td>\n",
       "      <td>0.134188</td>\n",
       "      <td>0.057887</td>\n",
       "      <td>0.043483</td>\n",
       "      <td>0.089078</td>\n",
       "      <td>0.309301</td>\n",
       "      <td>0.055388</td>\n",
       "      <td>0.042781</td>\n",
       "    </tr>\n",
       "    <tr>\n",
       "      <td>2</td>\n",
       "      <td>0.0</td>\n",
       "      <td>0.049948</td>\n",
       "      <td>0.067440</td>\n",
       "      <td>0.050830</td>\n",
       "      <td>0.000000</td>\n",
       "      <td>0.000000</td>\n",
       "      <td>0.000000</td>\n",
       "      <td>0.000000</td>\n",
       "      <td>0.000000</td>\n",
       "      <td>0.000000</td>\n",
       "    </tr>\n",
       "    <tr>\n",
       "      <td>3</td>\n",
       "      <td>5.0</td>\n",
       "      <td>0.084658</td>\n",
       "      <td>0.066121</td>\n",
       "      <td>0.058145</td>\n",
       "      <td>0.048145</td>\n",
       "      <td>0.043123</td>\n",
       "      <td>0.029888</td>\n",
       "      <td>0.025749</td>\n",
       "      <td>0.027303</td>\n",
       "      <td>0.023860</td>\n",
       "    </tr>\n",
       "    <tr>\n",
       "      <td>4</td>\n",
       "      <td>0.0</td>\n",
       "      <td>0.099132</td>\n",
       "      <td>0.170848</td>\n",
       "      <td>0.093001</td>\n",
       "      <td>0.028576</td>\n",
       "      <td>0.059057</td>\n",
       "      <td>0.038806</td>\n",
       "      <td>0.000000</td>\n",
       "      <td>0.000000</td>\n",
       "      <td>0.000000</td>\n",
       "    </tr>\n",
       "    <tr>\n",
       "      <td>5</td>\n",
       "      <td>0.0</td>\n",
       "      <td>0.030321</td>\n",
       "      <td>0.126199</td>\n",
       "      <td>0.006783</td>\n",
       "      <td>0.010370</td>\n",
       "      <td>0.033819</td>\n",
       "      <td>0.011501</td>\n",
       "      <td>0.027151</td>\n",
       "      <td>0.028721</td>\n",
       "      <td>0.048440</td>\n",
       "    </tr>\n",
       "  </tbody>\n",
       "</table>\n",
       "</div>"
      ],
      "text/plain": [
       "   flav  pt_trk_0  pt_trk_1  pt_trk_2  pt_trk_3  pt_trk_4  pt_trk_5  pt_trk_6  \\\n",
       "0  0.0   0.212636  0.071751  0.134188  0.057887  0.043483  0.089078  0.309301   \n",
       "2  0.0   0.049948  0.067440  0.050830  0.000000  0.000000  0.000000  0.000000   \n",
       "3  5.0   0.084658  0.066121  0.058145  0.048145  0.043123  0.029888  0.025749   \n",
       "4  0.0   0.099132  0.170848  0.093001  0.028576  0.059057  0.038806  0.000000   \n",
       "5  0.0   0.030321  0.126199  0.006783  0.010370  0.033819  0.011501  0.027151   \n",
       "\n",
       "   pt_trk_7  pt_trk_8  \n",
       "0  0.055388  0.042781  \n",
       "2  0.000000  0.000000  \n",
       "3  0.027303  0.023860  \n",
       "4  0.000000  0.000000  \n",
       "5  0.028721  0.048440  "
      ]
     },
     "execution_count": 291,
     "metadata": {},
     "output_type": "execute_result"
    }
   ],
   "source": [
    "df[['flav']+['pt_trk'+'_'+str(i) for i in range(9)]].head()\n",
    "# pfff, these are not pt ordered :( Probably pt-ordeered before calibration"
   ]
  },
  {
   "cell_type": "code",
   "execution_count": 292,
   "metadata": {},
   "outputs": [],
   "source": [
    "# useful to make list of column names\n",
    "trk_info = [\"ValZ0\",\"SigZ0\",\"ValD0\",\"SigZ0\",\"IP3D_trk_pb\",\"IP3D_trk_pu\",\"IP3D_trk_pc\",\"pt_trk\",\"has_time\",\"time\",\"nhits\",\"has_time_truth\",\"time_truth\",\"nhits_truth\"]\n",
    "\n",
    "string=''\n",
    "for i in range(25):\n",
    "    for info in trk_info:\n",
    "        string+=info+'_'+str(i)+', '\n",
    "\n",
    "# print(string)"
   ]
  },
  {
   "cell_type": "code",
   "execution_count": 293,
   "metadata": {},
   "outputs": [],
   "source": [
    "columns_to_use = []\n",
    "trk_info_to_keep = [\"IP3D_trk_pb\",\"IP3D_trk_pu\", \"has_time\",\"time\",\"nhits\"]\n",
    "for i in range(20):\n",
    "    for info in trk_info_to_keep:\n",
    "        columns_to_use.append(info+'_'+str(i))"
   ]
  },
  {
   "cell_type": "code",
   "execution_count": 294,
   "metadata": {},
   "outputs": [],
   "source": [
    "columns_to_use_df = columns_to_use[:]\n",
    "columns_to_use_df += ['target','has_t0','t0']\n",
    "df_to_use = df[columns_to_use_df]"
   ]
  },
  {
   "cell_type": "code",
   "execution_count": 296,
   "metadata": {},
   "outputs": [],
   "source": [
    "#columns_to_use.remove('target')\n",
    "# columns_to_use"
   ]
  },
  {
   "cell_type": "code",
   "execution_count": 297,
   "metadata": {},
   "outputs": [],
   "source": [
    "# convert df into arrays\n",
    "X = df_to_use[columns_to_use+['has_t0','t0']].values\n",
    "y = df_to_use['target'].values\n",
    "# scaling\n",
    "sc = StandardScaler()\n",
    "X = sc.fit_transform(X) "
   ]
  },
  {
   "cell_type": "code",
   "execution_count": 298,
   "metadata": {},
   "outputs": [],
   "source": [
    "X_train,X_test,y_train,y_test = train_test_split(X,y,test_size = 0.3)"
   ]
  },
  {
   "cell_type": "code",
   "execution_count": 299,
   "metadata": {},
   "outputs": [
    {
     "name": "stdout",
     "output_type": "stream",
     "text": [
      "Train on 275026 samples, validate on 117869 samples\n",
      "Epoch 1/10\n",
      "275026/275026 [==============================] - 16s 60us/step - loss: 0.1522 - acc: 0.9506 - val_loss: 0.1405 - val_acc: 0.9550\n",
      "Epoch 2/10\n",
      "275026/275026 [==============================] - 17s 63us/step - loss: 0.1374 - acc: 0.9547 - val_loss: 0.1375 - val_acc: 0.9550\n",
      "Epoch 3/10\n",
      "275026/275026 [==============================] - 18s 65us/step - loss: 0.1341 - acc: 0.9559 - val_loss: 0.1375 - val_acc: 0.9551\n",
      "Epoch 4/10\n",
      "275026/275026 [==============================] - 18s 67us/step - loss: 0.1322 - acc: 0.9568 - val_loss: 0.1375 - val_acc: 0.9554\n",
      "Epoch 5/10\n",
      "275026/275026 [==============================] - 18s 64us/step - loss: 0.1309 - acc: 0.9570 - val_loss: 0.1345 - val_acc: 0.9564\n",
      "Epoch 6/10\n",
      "275026/275026 [==============================] - 17s 63us/step - loss: 0.1298 - acc: 0.9573 - val_loss: 0.1350 - val_acc: 0.9563\n",
      "Epoch 7/10\n",
      "275026/275026 [==============================] - 18s 64us/step - loss: 0.1286 - acc: 0.9575 - val_loss: 0.1353 - val_acc: 0.9561\n",
      "Epoch 8/10\n",
      "275026/275026 [==============================] - 18s 64us/step - loss: 0.1282 - acc: 0.9578 - val_loss: 0.1357 - val_acc: 0.9563\n",
      "Epoch 9/10\n",
      "275026/275026 [==============================] - 18s 64us/step - loss: 0.1277 - acc: 0.9581 - val_loss: 0.1383 - val_acc: 0.9563\n",
      "Epoch 10/10\n",
      "275026/275026 [==============================] - 18s 64us/step - loss: 0.1267 - acc: 0.9584 - val_loss: 0.1374 - val_acc: 0.9555\n"
     ]
    }
   ],
   "source": [
    "# Neural network\n",
    "model = Sequential() # creating model sequentially (each layer takes as input output of previous layer)\n",
    "model.add(Dense(100, input_dim=len(columns_to_use)+2, activation='relu')) # Dense: fully connected layer\n",
    "# model.add(Dense(50, activation='relu'))\n",
    "# model.add(Dense(20, activation='relu')) \n",
    "model.add(Dense(1, activation='sigmoid')) # chiara: check what's the best activation function for single-value output\n",
    "# loss function and optimizer\n",
    "#opt = SGD(lr=0.001)\n",
    "#model.compile(loss = \"binary_crossentropy\", optimizer = opt, metrics=['accuracy'])\n",
    "#model.compile(loss='binary_crossentropy', optimizer='adam', metrics=['accuracy'])\n",
    "model.compile(loss='binary_crossentropy', optimizer='adam', metrics=['acc'])\n",
    "# training \n",
    "history = model.fit(X_train, y_train, epochs=10, batch_size=50, # it was 100 epochs\n",
    "                    validation_data = (X_test,y_test)) # show accuracy on test data after every epoch"
   ]
  },
  {
   "cell_type": "code",
   "execution_count": 300,
   "metadata": {},
   "outputs": [],
   "source": [
    "# Prediction\n",
    "y_pred_test = model.predict(X_test)\n",
    "y_pred_train = model.predict(X_train)\n",
    "\n",
    "fpr_test, tpr_test, thresholds_test = roc_curve(y_test, y_pred_test)\n",
    "fpr_train, tpr_train, thresholds_train = roc_curve(y_train, y_pred_train)"
   ]
  },
  {
   "cell_type": "code",
   "execution_count": 301,
   "metadata": {},
   "outputs": [
    {
     "name": "stderr",
     "output_type": "stream",
     "text": [
      "/opt/anaconda3/lib/python3.7/site-packages/ipykernel_launcher.py:3: RuntimeWarning: divide by zero encountered in true_divide\n",
      "  This is separate from the ipykernel package so we can avoid doing imports until\n",
      "/opt/anaconda3/lib/python3.7/site-packages/ipykernel_launcher.py:4: RuntimeWarning: divide by zero encountered in true_divide\n",
      "  after removing the cwd from sys.path.\n"
     ]
    },
    {
     "data": {
      "image/png": "[encoded data removed]",
      "text/plain": [
       "<Figure size 432x288 with 1 Axes>"
      ]
     },
     "metadata": {
      "needs_background": "light"
     },
     "output_type": "display_data"
    }
   ],
   "source": [
    "plt.figure(1)\n",
    "plt.plot([0, 1], [0, 1], 'k--')\n",
    "plt.plot(tpr_train, 1./fpr_train, label='train')\n",
    "plt.plot(tpr_test, 1./fpr_test, label='validation')\n",
    "#plt.xlabel('False positive rate')\n",
    "#plt.ylabel('True positive rate')\n",
    "plt.title('ROC curve')\n",
    "plt.legend(loc='best')\n",
    "plt.yscale('log')\n",
    "plt.xlim(0.55,1)\n",
    "plt.grid(True)\n",
    "plt.show()"
   ]
  },
  {
   "cell_type": "code",
   "execution_count": 302,
   "metadata": {},
   "outputs": [
    {
     "data": {
      "text/plain": [
       "array([[-2.23182585, -2.54536156, -1.57288424, ..., -0.01807064,\n",
       "         1.91239669, -3.08344774],\n",
       "       [ 0.12999899,  0.44530307,  0.6357747 , ..., -0.01807064,\n",
       "        -0.66822898, -0.00815911],\n",
       "       [-2.23182585, -2.54536156, -1.57288424, ..., -0.01807064,\n",
       "         1.91239669, -0.13190752],\n",
       "       ...,\n",
       "       [-0.76592322,  1.14962514,  0.6357747 , ..., -0.01807064,\n",
       "         1.91239669, -0.7545909 ],\n",
       "       [ 0.22353927,  0.0827645 ,  0.6357747 , ..., -0.01807064,\n",
       "        -0.66822898, -0.00815911],\n",
       "       [ 0.24217178, -0.03155913,  0.6357747 , ..., -0.01807064,\n",
       "        -0.66822898, -0.00815911]])"
      ]
     },
     "execution_count": 302,
     "metadata": {},
     "output_type": "execute_result"
    }
   ],
   "source": [
    "X_train"
   ]
  },
  {
   "cell_type": "code",
   "execution_count": 303,
   "metadata": {},
   "outputs": [
    {
     "data": {
      "text/plain": [
       "numpy.ndarray"
      ]
     },
     "execution_count": 303,
     "metadata": {},
     "output_type": "execute_result"
    }
   ],
   "source": [
    "type(X_train)"
   ]
  },
  {
   "cell_type": "code",
   "execution_count": 304,
   "metadata": {},
   "outputs": [
    {
     "data": {
      "text/plain": [
       "(275026, 102)"
      ]
     },
     "execution_count": 304,
     "metadata": {},
     "output_type": "execute_result"
    }
   ],
   "source": [
    "X_train.shape"
   ]
  },
  {
   "cell_type": "code",
   "execution_count": 305,
   "metadata": {},
   "outputs": [],
   "source": [
    "test = range(45)"
   ]
  },
  {
   "cell_type": "code",
   "execution_count": 306,
   "metadata": {},
   "outputs": [],
   "source": [
    "test2 = [i for i in test if i % 5 < 2]"
   ]
  },
  {
   "cell_type": "code",
   "execution_count": 307,
   "metadata": {},
   "outputs": [],
   "source": [
    "X_train_no_HGTD = X_train[:,test2]\n",
    "X_test_no_HGTD = X_test[:,test2]"
   ]
  },
  {
   "cell_type": "code",
   "execution_count": 308,
   "metadata": {},
   "outputs": [
    {
     "data": {
      "text/plain": [
       "(275026, 18)"
      ]
     },
     "execution_count": 308,
     "metadata": {},
     "output_type": "execute_result"
    }
   ],
   "source": [
    "X_train_no_HGTD.shape"
   ]
  },
  {
   "cell_type": "code",
   "execution_count": 309,
   "metadata": {},
   "outputs": [
    {
     "name": "stdout",
     "output_type": "stream",
     "text": [
      "Train on 275026 samples, validate on 117869 samples\n",
      "Epoch 1/10\n",
      "275026/275026 [==============================] - 10s 35us/step - loss: 0.1470 - acc: 0.9522 - val_loss: 0.1391 - val_acc: 0.9546\n",
      "Epoch 2/10\n",
      "275026/275026 [==============================] - 9s 33us/step - loss: 0.1378 - acc: 0.9549 - val_loss: 0.1369 - val_acc: 0.9554\n",
      "Epoch 3/10\n",
      "275026/275026 [==============================] - 9s 34us/step - loss: 0.1368 - acc: 0.9551 - val_loss: 0.1375 - val_acc: 0.9555\n",
      "Epoch 4/10\n",
      "275026/275026 [==============================] - 10s 36us/step - loss: 0.1361 - acc: 0.9553 - val_loss: 0.1360 - val_acc: 0.9554\n",
      "Epoch 5/10\n",
      "275026/275026 [==============================] - 10s 35us/step - loss: 0.1355 - acc: 0.9555 - val_loss: 0.1388 - val_acc: 0.9549\n",
      "Epoch 6/10\n",
      "275026/275026 [==============================] - 9s 33us/step - loss: 0.1352 - acc: 0.9555 - val_loss: 0.1345 - val_acc: 0.9562\n",
      "Epoch 7/10\n",
      "275026/275026 [==============================] - 9s 34us/step - loss: 0.1347 - acc: 0.9558 - val_loss: 0.1344 - val_acc: 0.9560\n",
      "Epoch 8/10\n",
      "275026/275026 [==============================] - 10s 36us/step - loss: 0.1343 - acc: 0.9558 - val_loss: 0.1345 - val_acc: 0.9561\n",
      "Epoch 9/10\n",
      "275026/275026 [==============================] - 9s 34us/step - loss: 0.1340 - acc: 0.9562 - val_loss: 0.1344 - val_acc: 0.9557\n",
      "Epoch 10/10\n",
      "275026/275026 [==============================] - 9s 34us/step - loss: 0.1337 - acc: 0.9559 - val_loss: 0.1344 - val_acc: 0.9563\n"
     ]
    }
   ],
   "source": [
    "# Neural network\n",
    "model2 = Sequential() # creating model sequentially (each layer takes as input output of previous layer)\n",
    "model2.add(Dense(100, input_dim=len(test2), activation='relu')) # Dense: fully connected layer\n",
    "# model.add(Dense(50, activation='relu'))\n",
    "# model.add(Dense(20, activation='relu')) \n",
    "model2.add(Dense(1, activation='sigmoid')) # chiara: check what's the best activation function for single-value output\n",
    "# loss function and optimizer\n",
    "#opt = SGD(lr=0.001)\n",
    "#model.compile(loss = \"binary_crossentropy\", optimizer = opt, metrics=['accuracy'])\n",
    "#model.compile(loss='binary_crossentropy', optimizer='adam', metrics=['accuracy'])\n",
    "model2.compile(loss='binary_crossentropy', optimizer='adam', metrics=['acc'])\n",
    "# training \n",
    "history = model2.fit(X_train_no_HGTD, y_train, epochs=10, batch_size=50, # it was 100 epochs\n",
    "                    validation_data = (X_test_no_HGTD,y_test)) # show accuracy on test data after every epoch"
   ]
  },
  {
   "cell_type": "code",
   "execution_count": 310,
   "metadata": {},
   "outputs": [],
   "source": [
    "# Prediction\n",
    "y_pred_test_no_HGTD = model2.predict(X_test_no_HGTD)\n",
    "y_pred_train_no_HGTD = model2.predict(X_train_no_HGTD)\n",
    "\n",
    "fpr_test_no_HGTD, tpr_test_no_HGTD, thresholds_test_no_HGTD = roc_curve(y_test, y_pred_test_no_HGTD)\n",
    "fpr_train_no_HGTD, tpr_train_no_HGTD, thresholds_train_no_HGTD = roc_curve(y_train, y_pred_train_no_HGTD)"
   ]
  },
  {
   "cell_type": "code",
   "execution_count": 311,
   "metadata": {},
   "outputs": [
    {
     "name": "stderr",
     "output_type": "stream",
     "text": [
      "/opt/anaconda3/lib/python3.7/site-packages/ipykernel_launcher.py:4: RuntimeWarning: divide by zero encountered in true_divide\n",
      "  after removing the cwd from sys.path.\n",
      "/opt/anaconda3/lib/python3.7/site-packages/ipykernel_launcher.py:6: RuntimeWarning: divide by zero encountered in true_divide\n",
      "  \n"
     ]
    },
    {
     "data": {
      "image/png": "[encoded data removed]",
      "text/plain": [
       "<Figure size 432x288 with 1 Axes>"
      ]
     },
     "metadata": {
      "needs_background": "light"
     },
     "output_type": "display_data"
    }
   ],
   "source": [
    "plt.figure(1)\n",
    "plt.plot([0, 1], [0, 1], 'k--')\n",
    "#plt.plot(tpr_train_no_HGTD, 1./fpr_train_no_HGTD, label='train_no_HGTD')\n",
    "plt.plot(tpr_test_no_HGTD, 1./fpr_test_no_HGTD, label='validation - ITK only')\n",
    "#plt.plot(tpr_train, 1./fpr_train, label='train')\n",
    "plt.plot(tpr_test, 1./fpr_test, label='validation - HGTD')\n",
    "#plt.xlabel('False positive rate')\n",
    "#plt.ylabel('True positive rate')\n",
    "plt.title('ROC curve')\n",
    "plt.legend(loc='best')\n",
    "#plt.yscale('log')\n",
    "plt.xlim(0.55,1)\n",
    "plt.ylim(1,200)\n",
    "plt.grid(True)\n",
    "plt.show()"
   ]
  },
  {
   "cell_type": "code",
   "execution_count": null,
   "metadata": {},
   "outputs": [],
   "source": []
  }
 ],
 "metadata": {
  "kernelspec": {
   "display_name": "Python 3",
   "language": "python",
   "name": "python3"
  },
  "language_info": {
   "codemirror_mode": {
    "name": "ipython",
    "version": 3
   },
   "file_extension": ".py",
   "mimetype": "text/x-python",
   "name": "python",
   "nbconvert_exporter": "python",
   "pygments_lexer": "ipython3",
   "version": "3.7.4"
  }
 },
 "nbformat": 4,
 "nbformat_minor": 2
}
