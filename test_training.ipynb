{
 "cells": [
  {
   "cell_type": "code",
   "execution_count": 557,
   "metadata": {},
   "outputs": [],
   "source": [
    "import pandas as pd\n",
    "import numpy as np\n",
    "import re # not really used atm\n",
    "from datetime import datetime\n",
    "from matplotlib import pyplot as plt\n",
    "import matplotlib.gridspec as gridspec\n",
    "import seaborn as sns"
   ]
  },
  {
   "cell_type": "code",
   "execution_count": 558,
   "metadata": {},
   "outputs": [],
   "source": [
    "from sklearn.preprocessing import StandardScaler # to scale data\n",
    "from sklearn.model_selection import train_test_split\n",
    "from sklearn.metrics import roc_curve,roc_auc_score,accuracy_score\n",
    "\n",
    "# NN model\n",
    "import keras\n",
    "from keras.models import Sequential\n",
    "from keras.models import load_model\n",
    "from keras.layers import Dense\n",
    "from keras.optimizers import SGD #test keras\n"
   ]
  },
  {
   "cell_type": "code",
   "execution_count": 559,
   "metadata": {},
   "outputs": [],
   "source": [
    "pd.set_option('display.max_rows', 50)\n",
    "pd.set_option('display.max_columns', 60)\n",
    "pd.set_option('display.width', None)\n",
    "pd.set_option('display.max_colwidth', -1)"
   ]
  },
  {
   "cell_type": "code",
   "execution_count": 560,
   "metadata": {},
   "outputs": [],
   "source": [
    "def check_null(df):\n",
    "    print('\\ncheck null values \\n')\n",
    "    print('shape df: ', df.shape, '\\n')\n",
    "    ok_columns = [col for col in df if df[col].isna().sum() == 0]\n",
    "    print('ok columns: ', ok_columns, '\\n')\n",
    "    for col in df:\n",
    "        if df[col].isna().sum() >0:\n",
    "            print(col, ':', df[col].isna().sum())"
   ]
  },
  {
   "cell_type": "code",
   "execution_count": 561,
   "metadata": {},
   "outputs": [],
   "source": [
    "df_original = pd.read_csv('../input/output_print_1683.csv')"
   ]
  },
  {
   "cell_type": "code",
   "execution_count": 562,
   "metadata": {},
   "outputs": [],
   "source": [
    "# remove rows with NaN (originating e.g. from empty lines in input file)\n",
    "df_original = df_original[df_original['flav'].notna()] "
   ]
  },
  {
   "cell_type": "code",
   "execution_count": 563,
   "metadata": {},
   "outputs": [],
   "source": [
    "# check_null(df)"
   ]
  },
  {
   "cell_type": "code",
   "execution_count": 564,
   "metadata": {},
   "outputs": [
    {
     "data": {
      "text/plain": [
       "<matplotlib.collections.PathCollection at 0x15c6c11d0>"
      ]
     },
     "execution_count": 564,
     "metadata": {},
     "output_type": "execute_result"
    },
    {
     "data": {
      "image/png": "[encoded data removed]",
      "text/plain": [
       "<Figure size 432x288 with 1 Axes>"
      ]
     },
     "metadata": {
      "needs_background": "light"
     },
     "output_type": "display_data"
    }
   ],
   "source": [
    "plt.scatter(df_original['flav'].value_counts().index, df_original['flav'].value_counts())"
   ]
  },
  {
   "cell_type": "code",
   "execution_count": 565,
   "metadata": {},
   "outputs": [],
   "source": [
    "# do not consider PU jets\n",
    "df = df_original[(df_original['truth_match']>0) & (df_original['quark_match']>0)]\n",
    "#df = df_original[(df_original['ele_match']<1)]\n",
    "# for the moment I want to focus on b-vs-light --> keep only real light and b, and put target to flav=5\n",
    "df = df[(df['flav']==0) | (df['flav']==5) ]\n",
    "df['target'] = (df['flav'] == 5 ).astype(int)"
   ]
  },
  {
   "cell_type": "code",
   "execution_count": 566,
   "metadata": {},
   "outputs": [
    {
     "data": {
      "text/html": [
       "<div>\n",
       "<style scoped>\n",
       "    .dataframe tbody tr th:only-of-type {\n",
       "        vertical-align: middle;\n",
       "    }\n",
       "\n",
       "    .dataframe tbody tr th {\n",
       "        vertical-align: top;\n",
       "    }\n",
       "\n",
       "    .dataframe thead th {\n",
       "        text-align: right;\n",
       "    }\n",
       "</style>\n",
       "<table border=\"1\" class=\"dataframe\">\n",
       "  <thead>\n",
       "    <tr style=\"text-align: right;\">\n",
       "      <th></th>\n",
       "      <th>truth_match</th>\n",
       "      <th>quark_match</th>\n",
       "      <th>ele_match</th>\n",
       "    </tr>\n",
       "  </thead>\n",
       "  <tbody>\n",
       "    <tr>\n",
       "      <td>count</td>\n",
       "      <td>94128.0</td>\n",
       "      <td>94128.0</td>\n",
       "      <td>94128.000000</td>\n",
       "    </tr>\n",
       "    <tr>\n",
       "      <td>mean</td>\n",
       "      <td>1.0</td>\n",
       "      <td>1.0</td>\n",
       "      <td>0.058272</td>\n",
       "    </tr>\n",
       "    <tr>\n",
       "      <td>std</td>\n",
       "      <td>0.0</td>\n",
       "      <td>0.0</td>\n",
       "      <td>0.234258</td>\n",
       "    </tr>\n",
       "    <tr>\n",
       "      <td>min</td>\n",
       "      <td>1.0</td>\n",
       "      <td>1.0</td>\n",
       "      <td>0.000000</td>\n",
       "    </tr>\n",
       "    <tr>\n",
       "      <td>25%</td>\n",
       "      <td>1.0</td>\n",
       "      <td>1.0</td>\n",
       "      <td>0.000000</td>\n",
       "    </tr>\n",
       "    <tr>\n",
       "      <td>50%</td>\n",
       "      <td>1.0</td>\n",
       "      <td>1.0</td>\n",
       "      <td>0.000000</td>\n",
       "    </tr>\n",
       "    <tr>\n",
       "      <td>75%</td>\n",
       "      <td>1.0</td>\n",
       "      <td>1.0</td>\n",
       "      <td>0.000000</td>\n",
       "    </tr>\n",
       "    <tr>\n",
       "      <td>max</td>\n",
       "      <td>1.0</td>\n",
       "      <td>1.0</td>\n",
       "      <td>1.000000</td>\n",
       "    </tr>\n",
       "  </tbody>\n",
       "</table>\n",
       "</div>"
      ],
      "text/plain": [
       "       truth_match  quark_match     ele_match\n",
       "count  94128.0      94128.0      94128.000000\n",
       "mean   1.0          1.0          0.058272    \n",
       "std    0.0          0.0          0.234258    \n",
       "min    1.0          1.0          0.000000    \n",
       "25%    1.0          1.0          0.000000    \n",
       "50%    1.0          1.0          0.000000    \n",
       "75%    1.0          1.0          0.000000    \n",
       "max    1.0          1.0          1.000000    "
      ]
     },
     "execution_count": 566,
     "metadata": {},
     "output_type": "execute_result"
    }
   ],
   "source": [
    "df[['truth_match','quark_match','ele_match']].describe()"
   ]
  },
  {
   "cell_type": "code",
   "execution_count": 567,
   "metadata": {},
   "outputs": [
    {
     "data": {
      "text/plain": [
       "count    94128.000000\n",
       "mean     0.348122    \n",
       "std      0.476377    \n",
       "min      0.000000    \n",
       "25%      0.000000    \n",
       "50%      0.000000    \n",
       "75%      1.000000    \n",
       "max      1.000000    \n",
       "Name: target, dtype: float64"
      ]
     },
     "execution_count": 567,
     "metadata": {},
     "output_type": "execute_result"
    }
   ],
   "source": [
    "# check how many events and the fraction of b-jets\n",
    "df['target'].describe()"
   ]
  },
  {
   "cell_type": "code",
   "execution_count": 568,
   "metadata": {},
   "outputs": [],
   "source": [
    "df = df.replace([-999],[0])"
   ]
  },
  {
   "cell_type": "code",
   "execution_count": 569,
   "metadata": {},
   "outputs": [],
   "source": [
    "# change the track pT into fraction of the jet_pt\n",
    "# change time into time-t0 (if no t0, t0 is set to zero so no difference)\n",
    "for i in range(25):\n",
    "    col = 'pt_trk'+'_'+str(i)\n",
    "    df[col] = df[col]/df['jet_pt']\n",
    "    col = 'time_truth'+'_'+str(i)\n",
    "    df[col] = df[col]-df['t0']"
   ]
  },
  {
   "cell_type": "code",
   "execution_count": 570,
   "metadata": {},
   "outputs": [],
   "source": [
    "df['avg_trk_time'] = 0\n",
    "df.loc[df['n_trk']>0,'avg_trk_time'] = (sum(df['time_truth'+'_'+str(i)] for i in range(25)))/df['n_trk']"
   ]
  },
  {
   "cell_type": "code",
   "execution_count": 571,
   "metadata": {},
   "outputs": [],
   "source": [
    "for i in range(25):\n",
    "    df.loc[df['has_t0']<1,'time'+'_'+str(i)] = df['time_truth'+'_'+str(i)] - df['avg_trk_time']"
   ]
  },
  {
   "cell_type": "code",
   "execution_count": 572,
   "metadata": {},
   "outputs": [
    {
     "name": "stdout",
     "output_type": "stream",
     "text": [
      "\n",
      "check null values \n",
      "\n",
      "shape df:  (94128, 362) \n",
      "\n",
      "ok columns:  ['name', 'flav', 'truth_match', 'quark_match', 'ele_match', 'jet_pt', 'jet_eta', 'n_trk', 'ValZ0_0', 'SigZ0_0', 'ValD0_0', 'SigZ0_0.1', 'IP3D_trk_pb_0', 'IP3D_trk_pu_0', 'IP3D_trk_pc_0', 'pt_trk_0', 'has_time_0', 'time_0', 'nhits_0', 'has_time_truth_0', 'time_truth_0', 'nhits_truth_0', 'ValZ0_1', 'SigZ0_1', 'ValD0_1', 'SigZ0_1.1', 'IP3D_trk_pb_1', 'IP3D_trk_pu_1', 'IP3D_trk_pc_1', 'pt_trk_1', 'has_time_1', 'time_1', 'nhits_1', 'has_time_truth_1', 'time_truth_1', 'nhits_truth_1', 'ValZ0_2', 'SigZ0_2', 'ValD0_2', 'SigZ0_2.1', 'IP3D_trk_pb_2', 'IP3D_trk_pu_2', 'IP3D_trk_pc_2', 'pt_trk_2', 'has_time_2', 'time_2', 'nhits_2', 'has_time_truth_2', 'time_truth_2', 'nhits_truth_2', 'ValZ0_3', 'SigZ0_3', 'ValD0_3', 'SigZ0_3.1', 'IP3D_trk_pb_3', 'IP3D_trk_pu_3', 'IP3D_trk_pc_3', 'pt_trk_3', 'has_time_3', 'time_3', 'nhits_3', 'has_time_truth_3', 'time_truth_3', 'nhits_truth_3', 'ValZ0_4', 'SigZ0_4', 'ValD0_4', 'SigZ0_4.1', 'IP3D_trk_pb_4', 'IP3D_trk_pu_4', 'IP3D_trk_pc_4', 'pt_trk_4', 'has_time_4', 'time_4', 'nhits_4', 'has_time_truth_4', 'time_truth_4', 'nhits_truth_4', 'ValZ0_5', 'SigZ0_5', 'ValD0_5', 'SigZ0_5.1', 'IP3D_trk_pb_5', 'IP3D_trk_pu_5', 'IP3D_trk_pc_5', 'pt_trk_5', 'has_time_5', 'time_5', 'nhits_5', 'has_time_truth_5', 'time_truth_5', 'nhits_truth_5', 'ValZ0_6', 'SigZ0_6', 'ValD0_6', 'SigZ0_6.1', 'IP3D_trk_pb_6', 'IP3D_trk_pu_6', 'IP3D_trk_pc_6', 'pt_trk_6', 'has_time_6', 'time_6', 'nhits_6', 'has_time_truth_6', 'time_truth_6', 'nhits_truth_6', 'ValZ0_7', 'SigZ0_7', 'ValD0_7', 'SigZ0_7.1', 'IP3D_trk_pb_7', 'IP3D_trk_pu_7', 'IP3D_trk_pc_7', 'pt_trk_7', 'has_time_7', 'time_7', 'nhits_7', 'has_time_truth_7', 'time_truth_7', 'nhits_truth_7', 'ValZ0_8', 'SigZ0_8', 'ValD0_8', 'SigZ0_8.1', 'IP3D_trk_pb_8', 'IP3D_trk_pu_8', 'IP3D_trk_pc_8', 'pt_trk_8', 'has_time_8', 'time_8', 'nhits_8', 'has_time_truth_8', 'time_truth_8', 'nhits_truth_8', 'ValZ0_9', 'SigZ0_9', 'ValD0_9', 'SigZ0_9.1', 'IP3D_trk_pb_9', 'IP3D_trk_pu_9', 'IP3D_trk_pc_9', 'pt_trk_9', 'has_time_9', 'time_9', 'nhits_9', 'has_time_truth_9', 'time_truth_9', 'nhits_truth_9', 'ValZ0_10', 'SigZ0_10', 'ValD0_10', 'SigZ0_10.1', 'IP3D_trk_pb_10', 'IP3D_trk_pu_10', 'IP3D_trk_pc_10', 'pt_trk_10', 'has_time_10', 'time_10', 'nhits_10', 'has_time_truth_10', 'time_truth_10', 'nhits_truth_10', 'ValZ0_11', 'SigZ0_11', 'ValD0_11', 'SigZ0_11.1', 'IP3D_trk_pb_11', 'IP3D_trk_pu_11', 'IP3D_trk_pc_11', 'pt_trk_11', 'has_time_11', 'time_11', 'nhits_11', 'has_time_truth_11', 'time_truth_11', 'nhits_truth_11', 'ValZ0_12', 'SigZ0_12', 'ValD0_12', 'SigZ0_12.1', 'IP3D_trk_pb_12', 'IP3D_trk_pu_12', 'IP3D_trk_pc_12', 'pt_trk_12', 'has_time_12', 'time_12', 'nhits_12', 'has_time_truth_12', 'time_truth_12', 'nhits_truth_12', 'ValZ0_13', 'SigZ0_13', 'ValD0_13', 'SigZ0_13.1', 'IP3D_trk_pb_13', 'IP3D_trk_pu_13', 'IP3D_trk_pc_13', 'pt_trk_13', 'has_time_13', 'time_13', 'nhits_13', 'has_time_truth_13', 'time_truth_13', 'nhits_truth_13', 'ValZ0_14', 'SigZ0_14', 'ValD0_14', 'SigZ0_14.1', 'IP3D_trk_pb_14', 'IP3D_trk_pu_14', 'IP3D_trk_pc_14', 'pt_trk_14', 'has_time_14', 'time_14', 'nhits_14', 'has_time_truth_14', 'time_truth_14', 'nhits_truth_14', 'ValZ0_15', 'SigZ0_15', 'ValD0_15', 'SigZ0_15.1', 'IP3D_trk_pb_15', 'IP3D_trk_pu_15', 'IP3D_trk_pc_15', 'pt_trk_15', 'has_time_15', 'time_15', 'nhits_15', 'has_time_truth_15', 'time_truth_15', 'nhits_truth_15', 'ValZ0_16', 'SigZ0_16', 'ValD0_16', 'SigZ0_16.1', 'IP3D_trk_pb_16', 'IP3D_trk_pu_16', 'IP3D_trk_pc_16', 'pt_trk_16', 'has_time_16', 'time_16', 'nhits_16', 'has_time_truth_16', 'time_truth_16', 'nhits_truth_16', 'ValZ0_17', 'SigZ0_17', 'ValD0_17', 'SigZ0_17.1', 'IP3D_trk_pb_17', 'IP3D_trk_pu_17', 'IP3D_trk_pc_17', 'pt_trk_17', 'has_time_17', 'time_17', 'nhits_17', 'has_time_truth_17', 'time_truth_17', 'nhits_truth_17', 'ValZ0_18', 'SigZ0_18', 'ValD0_18', 'SigZ0_18.1', 'IP3D_trk_pb_18', 'IP3D_trk_pu_18', 'IP3D_trk_pc_18', 'pt_trk_18', 'has_time_18', 'time_18', 'nhits_18', 'has_time_truth_18', 'time_truth_18', 'nhits_truth_18', 'ValZ0_19', 'SigZ0_19', 'ValD0_19', 'SigZ0_19.1', 'IP3D_trk_pb_19', 'IP3D_trk_pu_19', 'IP3D_trk_pc_19', 'pt_trk_19', 'has_time_19', 'time_19', 'nhits_19', 'has_time_truth_19', 'time_truth_19', 'nhits_truth_19', 'ValZ0_20', 'SigZ0_20', 'ValD0_20', 'SigZ0_20.1', 'IP3D_trk_pb_20', 'IP3D_trk_pu_20', 'IP3D_trk_pc_20', 'pt_trk_20', 'has_time_20', 'time_20', 'nhits_20', 'has_time_truth_20', 'time_truth_20', 'nhits_truth_20', 'ValZ0_21', 'SigZ0_21', 'ValD0_21', 'SigZ0_21.1', 'IP3D_trk_pb_21', 'IP3D_trk_pu_21', 'IP3D_trk_pc_21', 'pt_trk_21', 'has_time_21', 'time_21', 'nhits_21', 'has_time_truth_21', 'time_truth_21', 'nhits_truth_21', 'ValZ0_22', 'SigZ0_22', 'ValD0_22', 'SigZ0_22.1', 'IP3D_trk_pb_22', 'IP3D_trk_pu_22', 'IP3D_trk_pc_22', 'pt_trk_22', 'has_time_22', 'time_22', 'nhits_22', 'has_time_truth_22', 'time_truth_22', 'nhits_truth_22', 'ValZ0_23', 'SigZ0_23', 'ValD0_23', 'SigZ0_23.1', 'IP3D_trk_pb_23', 'IP3D_trk_pu_23', 'IP3D_trk_pc_23', 'pt_trk_23', 'has_time_23', 'time_23', 'nhits_23', 'has_time_truth_23', 'time_truth_23', 'nhits_truth_23', 'ValZ0_24', 'SigZ0_24', 'ValD0_24', 'SigZ0_24.1', 'IP3D_trk_pb_24', 'IP3D_trk_pu_24', 'IP3D_trk_pc_24', 'pt_trk_24', 'has_time_24', 'time_24', 'nhits_24', 'has_time_truth_24', 'time_truth_24', 'nhits_truth_24', 'has_t0', 't0', 'target', 'avg_trk_time'] \n",
      "\n"
     ]
    }
   ],
   "source": [
    "check_null(df)"
   ]
  },
  {
   "cell_type": "code",
   "execution_count": 573,
   "metadata": {},
   "outputs": [
    {
     "data": {
      "text/html": [
       "<div>\n",
       "<style scoped>\n",
       "    .dataframe tbody tr th:only-of-type {\n",
       "        vertical-align: middle;\n",
       "    }\n",
       "\n",
       "    .dataframe tbody tr th {\n",
       "        vertical-align: top;\n",
       "    }\n",
       "\n",
       "    .dataframe thead th {\n",
       "        text-align: right;\n",
       "    }\n",
       "</style>\n",
       "<table border=\"1\" class=\"dataframe\">\n",
       "  <thead>\n",
       "    <tr style=\"text-align: right;\">\n",
       "      <th></th>\n",
       "      <th>flav</th>\n",
       "      <th>pt_trk_0</th>\n",
       "      <th>pt_trk_1</th>\n",
       "      <th>pt_trk_2</th>\n",
       "      <th>pt_trk_3</th>\n",
       "      <th>pt_trk_4</th>\n",
       "      <th>pt_trk_5</th>\n",
       "      <th>pt_trk_6</th>\n",
       "      <th>pt_trk_7</th>\n",
       "      <th>pt_trk_8</th>\n",
       "    </tr>\n",
       "  </thead>\n",
       "  <tbody>\n",
       "    <tr>\n",
       "      <td>3</td>\n",
       "      <td>5.0</td>\n",
       "      <td>0.084658</td>\n",
       "      <td>0.066121</td>\n",
       "      <td>0.058145</td>\n",
       "      <td>0.048145</td>\n",
       "      <td>0.043123</td>\n",
       "      <td>0.029888</td>\n",
       "      <td>0.025749</td>\n",
       "      <td>0.027303</td>\n",
       "      <td>0.023860</td>\n",
       "    </tr>\n",
       "    <tr>\n",
       "      <td>4</td>\n",
       "      <td>0.0</td>\n",
       "      <td>0.099132</td>\n",
       "      <td>0.170848</td>\n",
       "      <td>0.093001</td>\n",
       "      <td>0.028576</td>\n",
       "      <td>0.059057</td>\n",
       "      <td>0.038806</td>\n",
       "      <td>0.000000</td>\n",
       "      <td>0.000000</td>\n",
       "      <td>0.000000</td>\n",
       "    </tr>\n",
       "    <tr>\n",
       "      <td>11</td>\n",
       "      <td>0.0</td>\n",
       "      <td>0.308656</td>\n",
       "      <td>0.476114</td>\n",
       "      <td>0.224626</td>\n",
       "      <td>0.016242</td>\n",
       "      <td>0.009425</td>\n",
       "      <td>0.009914</td>\n",
       "      <td>0.000000</td>\n",
       "      <td>0.000000</td>\n",
       "      <td>0.000000</td>\n",
       "    </tr>\n",
       "    <tr>\n",
       "      <td>12</td>\n",
       "      <td>0.0</td>\n",
       "      <td>0.196172</td>\n",
       "      <td>0.053959</td>\n",
       "      <td>0.029415</td>\n",
       "      <td>0.677865</td>\n",
       "      <td>0.046929</td>\n",
       "      <td>0.029570</td>\n",
       "      <td>0.024180</td>\n",
       "      <td>0.024415</td>\n",
       "      <td>0.029972</td>\n",
       "    </tr>\n",
       "    <tr>\n",
       "      <td>13</td>\n",
       "      <td>5.0</td>\n",
       "      <td>0.030414</td>\n",
       "      <td>0.063343</td>\n",
       "      <td>0.029997</td>\n",
       "      <td>0.452264</td>\n",
       "      <td>0.032486</td>\n",
       "      <td>0.029558</td>\n",
       "      <td>0.106201</td>\n",
       "      <td>0.000000</td>\n",
       "      <td>0.000000</td>\n",
       "    </tr>\n",
       "  </tbody>\n",
       "</table>\n",
       "</div>"
      ],
      "text/plain": [
       "    flav  pt_trk_0  pt_trk_1  pt_trk_2  pt_trk_3  pt_trk_4  pt_trk_5  \\\n",
       "3   5.0   0.084658  0.066121  0.058145  0.048145  0.043123  0.029888   \n",
       "4   0.0   0.099132  0.170848  0.093001  0.028576  0.059057  0.038806   \n",
       "11  0.0   0.308656  0.476114  0.224626  0.016242  0.009425  0.009914   \n",
       "12  0.0   0.196172  0.053959  0.029415  0.677865  0.046929  0.029570   \n",
       "13  5.0   0.030414  0.063343  0.029997  0.452264  0.032486  0.029558   \n",
       "\n",
       "    pt_trk_6  pt_trk_7  pt_trk_8  \n",
       "3   0.025749  0.027303  0.023860  \n",
       "4   0.000000  0.000000  0.000000  \n",
       "11  0.000000  0.000000  0.000000  \n",
       "12  0.024180  0.024415  0.029972  \n",
       "13  0.106201  0.000000  0.000000  "
      ]
     },
     "execution_count": 573,
     "metadata": {},
     "output_type": "execute_result"
    }
   ],
   "source": [
    "df[['flav']+['pt_trk'+'_'+str(i) for i in range(9)]].head()\n",
    "# pfff, these are not pt ordered :( Probably pt-ordeered before calibration"
   ]
  },
  {
   "cell_type": "code",
   "execution_count": 574,
   "metadata": {},
   "outputs": [],
   "source": [
    "# useful to make list of column names\n",
    "trk_info = [\"ValZ0\",\"SigZ0\",\"ValD0\",\"SigZ0\",\"IP3D_trk_pb\",\"IP3D_trk_pu\",\"IP3D_trk_pc\",\"pt_trk\",\"has_time\",\"time\",\"nhits\",\"has_time_truth\",\"time_truth\",\"nhits_truth\"]\n",
    "\n",
    "string=''\n",
    "for i in range(25):\n",
    "    for info in trk_info:\n",
    "        string+=info+'_'+str(i)+', '\n",
    "\n",
    "# print(string)"
   ]
  },
  {
   "cell_type": "code",
   "execution_count": 575,
   "metadata": {},
   "outputs": [],
   "source": [
    "columns_to_use = []\n",
    "trk_info_to_keep = [\"IP3D_trk_pb\",\"IP3D_trk_pu\", \"has_time_truth\",\"time_truth\",\"nhits\"]\n",
    "for i in range(20):\n",
    "    for info in trk_info_to_keep:\n",
    "        columns_to_use.append(info+'_'+str(i))"
   ]
  },
  {
   "cell_type": "code",
   "execution_count": 576,
   "metadata": {},
   "outputs": [],
   "source": [
    "columns_to_use_df = columns_to_use[:]\n",
    "columns_to_use_df += ['target','has_t0','t0']\n",
    "df_to_use = df[columns_to_use_df]"
   ]
  },
  {
   "cell_type": "code",
   "execution_count": 577,
   "metadata": {},
   "outputs": [],
   "source": [
    "#columns_to_use.remove('target')\n",
    "# columns_to_use"
   ]
  },
  {
   "cell_type": "code",
   "execution_count": 578,
   "metadata": {},
   "outputs": [],
   "source": [
    "# convert df into arrays\n",
    "X = df_to_use[columns_to_use+['has_t0','t0']].values\n",
    "y = df_to_use['target'].values\n",
    "# scaling\n",
    "sc = StandardScaler()\n",
    "X = sc.fit_transform(X) "
   ]
  },
  {
   "cell_type": "code",
   "execution_count": 579,
   "metadata": {},
   "outputs": [],
   "source": [
    "X_train,X_test,y_train,y_test = train_test_split(X,y,test_size = 0.3)"
   ]
  },
  {
   "cell_type": "code",
   "execution_count": 580,
   "metadata": {},
   "outputs": [
    {
     "name": "stdout",
     "output_type": "stream",
     "text": [
      "Train on 65889 samples, validate on 28239 samples\n",
      "Epoch 1/10\n",
      "65889/65889 [==============================] - 6s 86us/step - loss: 0.3265 - acc: 0.8704 - val_loss: 0.3292 - val_acc: 0.8663\n",
      "Epoch 2/10\n",
      "65889/65889 [==============================] - 6s 85us/step - loss: 0.3099 - acc: 0.8772 - val_loss: 0.3238 - val_acc: 0.8659\n",
      "Epoch 3/10\n",
      "65889/65889 [==============================] - 6s 90us/step - loss: 0.3057 - acc: 0.8792 - val_loss: 0.3283 - val_acc: 0.8645\n",
      "Epoch 4/10\n",
      "65889/65889 [==============================] - 5s 83us/step - loss: 0.3031 - acc: 0.8792 - val_loss: 0.3177 - val_acc: 0.8706\n",
      "Epoch 5/10\n",
      "65889/65889 [==============================] - 6s 86us/step - loss: 0.2994 - acc: 0.8811 - val_loss: 0.3172 - val_acc: 0.8713\n",
      "Epoch 6/10\n",
      "65889/65889 [==============================] - 6s 88us/step - loss: 0.2982 - acc: 0.8826 - val_loss: 0.3241 - val_acc: 0.8669\n",
      "Epoch 7/10\n",
      "65889/65889 [==============================] - 6s 88us/step - loss: 0.2953 - acc: 0.8827 - val_loss: 0.3219 - val_acc: 0.8687\n",
      "Epoch 8/10\n",
      "65889/65889 [==============================] - 6s 87us/step - loss: 0.2932 - acc: 0.8842 - val_loss: 0.3196 - val_acc: 0.8693\n",
      "Epoch 9/10\n",
      "65889/65889 [==============================] - 6s 92us/step - loss: 0.2913 - acc: 0.8850 - val_loss: 0.3262 - val_acc: 0.8701\n",
      "Epoch 10/10\n",
      "65889/65889 [==============================] - 6s 97us/step - loss: 0.2895 - acc: 0.8860 - val_loss: 0.3227 - val_acc: 0.8686\n"
     ]
    }
   ],
   "source": [
    "# Neural network\n",
    "model = Sequential() # creating model sequentially (each layer takes as input output of previous layer)\n",
    "model.add(Dense(300, input_dim=len(columns_to_use)+2, activation='relu')) # Dense: fully connected layer\n",
    "# model.add(Dense(50, activation='relu'))\n",
    "# model.add(Dense(20, activation='relu')) \n",
    "model.add(Dense(1, activation='sigmoid')) # chiara: check what's the best activation function for single-value output\n",
    "# loss function and optimizer\n",
    "#opt = SGD(lr=0.001)\n",
    "#model.compile(loss = \"binary_crossentropy\", optimizer = opt, metrics=['accuracy'])\n",
    "#model.compile(loss='binary_crossentropy', optimizer='adam', metrics=['accuracy'])\n",
    "model.compile(loss='binary_crossentropy', optimizer='adam', metrics=['acc'])\n",
    "# training \n",
    "history = model.fit(X_train, y_train, epochs=10, batch_size=50, # it was 100 epochs\n",
    "                    validation_data = (X_test,y_test)) # show accuracy on test data after every epoch"
   ]
  },
  {
   "cell_type": "code",
   "execution_count": 581,
   "metadata": {},
   "outputs": [],
   "source": [
    "# Prediction\n",
    "y_pred_test = model.predict(X_test)\n",
    "y_pred_train = model.predict(X_train)\n",
    "\n",
    "fpr_test, tpr_test, thresholds_test = roc_curve(y_test, y_pred_test)\n",
    "fpr_train, tpr_train, thresholds_train = roc_curve(y_train, y_pred_train)"
   ]
  },
  {
   "cell_type": "code",
   "execution_count": 582,
   "metadata": {},
   "outputs": [
    {
     "name": "stderr",
     "output_type": "stream",
     "text": [
      "/opt/anaconda3/lib/python3.7/site-packages/ipykernel_launcher.py:3: RuntimeWarning: divide by zero encountered in true_divide\n",
      "  This is separate from the ipykernel package so we can avoid doing imports until\n",
      "/opt/anaconda3/lib/python3.7/site-packages/ipykernel_launcher.py:4: RuntimeWarning: divide by zero encountered in true_divide\n",
      "  after removing the cwd from sys.path.\n"
     ]
    },
    {
     "data": {
      "image/png": "[encoded data removed]",
      "text/plain": [
       "<Figure size 432x288 with 1 Axes>"
      ]
     },
     "metadata": {
      "needs_background": "light"
     },
     "output_type": "display_data"
    }
   ],
   "source": [
    "plt.figure(1)\n",
    "plt.plot([0, 1], [0, 1], 'k--')\n",
    "plt.plot(tpr_train, 1./fpr_train, label='train')\n",
    "plt.plot(tpr_test, 1./fpr_test, label='validation')\n",
    "#plt.xlabel('False positive rate')\n",
    "#plt.ylabel('True positive rate')\n",
    "plt.title('ROC curve')\n",
    "plt.legend(loc='best')\n",
    "plt.yscale('log')\n",
    "plt.xlim(0.55,1)\n",
    "plt.grid(True)\n",
    "plt.show()"
   ]
  },
  {
   "cell_type": "code",
   "execution_count": 583,
   "metadata": {},
   "outputs": [
    {
     "data": {
      "text/plain": [
       "array([[ 1.11384417e-01,  2.05590046e-01,  5.50953191e-01, ...,\n",
       "        -2.82386744e-02,  1.48198665e+00,  3.20271058e-01],\n",
       "       [-1.28253530e-01, -2.25705350e-01, -1.81503622e+00, ...,\n",
       "        -2.82386744e-02, -9.79635581e-01, -1.10544094e-04],\n",
       "       [-9.56990822e-02,  6.17534720e-02,  5.50953191e-01, ...,\n",
       "        -2.82386744e-02, -9.79635581e-01, -1.10544094e-04],\n",
       "       ...,\n",
       "       [ 3.37030320e-01, -1.05097166e+00,  5.50953191e-01, ...,\n",
       "        -2.82386744e-02,  1.48198665e+00,  4.93742974e-01],\n",
       "       [ 3.19213454e-02, -1.14541587e-01,  5.50953191e-01, ...,\n",
       "        -2.82386744e-02, -9.79635581e-01, -1.10544094e-04],\n",
       "       [-2.19317323e-01,  4.79810406e-02,  5.50953191e-01, ...,\n",
       "        -2.82386744e-02, -9.79635581e-01, -1.10544094e-04]])"
      ]
     },
     "execution_count": 583,
     "metadata": {},
     "output_type": "execute_result"
    }
   ],
   "source": [
    "X_train"
   ]
  },
  {
   "cell_type": "code",
   "execution_count": 584,
   "metadata": {},
   "outputs": [
    {
     "data": {
      "text/plain": [
       "numpy.ndarray"
      ]
     },
     "execution_count": 584,
     "metadata": {},
     "output_type": "execute_result"
    }
   ],
   "source": [
    "type(X_train)"
   ]
  },
  {
   "cell_type": "code",
   "execution_count": 585,
   "metadata": {},
   "outputs": [
    {
     "data": {
      "text/plain": [
       "(65889, 102)"
      ]
     },
     "execution_count": 585,
     "metadata": {},
     "output_type": "execute_result"
    }
   ],
   "source": [
    "X_train.shape"
   ]
  },
  {
   "cell_type": "code",
   "execution_count": 586,
   "metadata": {},
   "outputs": [],
   "source": [
    "test = range(45)"
   ]
  },
  {
   "cell_type": "code",
   "execution_count": 587,
   "metadata": {},
   "outputs": [],
   "source": [
    "test2 = [i for i in test if i % 5 < 2]"
   ]
  },
  {
   "cell_type": "code",
   "execution_count": 588,
   "metadata": {},
   "outputs": [],
   "source": [
    "X_train_no_HGTD = X_train[:,test2]\n",
    "X_test_no_HGTD = X_test[:,test2]"
   ]
  },
  {
   "cell_type": "code",
   "execution_count": 589,
   "metadata": {},
   "outputs": [
    {
     "data": {
      "text/plain": [
       "(65889, 18)"
      ]
     },
     "execution_count": 589,
     "metadata": {},
     "output_type": "execute_result"
    }
   ],
   "source": [
    "X_train_no_HGTD.shape"
   ]
  },
  {
   "cell_type": "code",
   "execution_count": 590,
   "metadata": {},
   "outputs": [
    {
     "name": "stdout",
     "output_type": "stream",
     "text": [
      "Train on 65889 samples, validate on 28239 samples\n",
      "Epoch 1/10\n",
      "65889/65889 [==============================] - 5s 75us/step - loss: 0.3312 - acc: 0.8682 - val_loss: 0.3313 - val_acc: 0.8649\n",
      "Epoch 2/10\n",
      "65889/65889 [==============================] - 5s 69us/step - loss: 0.3240 - acc: 0.8711 - val_loss: 0.3310 - val_acc: 0.8663\n",
      "Epoch 3/10\n",
      "65889/65889 [==============================] - 5s 70us/step - loss: 0.3222 - acc: 0.8718 - val_loss: 0.3331 - val_acc: 0.8665\n",
      "Epoch 4/10\n",
      "65889/65889 [==============================] - 5s 71us/step - loss: 0.3215 - acc: 0.8719 - val_loss: 0.3290 - val_acc: 0.8668\n",
      "Epoch 5/10\n",
      "65889/65889 [==============================] - 5s 72us/step - loss: 0.3212 - acc: 0.8729 - val_loss: 0.3320 - val_acc: 0.8651\n",
      "Epoch 6/10\n",
      "65889/65889 [==============================] - 5s 69us/step - loss: 0.3204 - acc: 0.8730 - val_loss: 0.3319 - val_acc: 0.8652\n",
      "Epoch 7/10\n",
      "65889/65889 [==============================] - 4s 67us/step - loss: 0.3202 - acc: 0.8727 - val_loss: 0.3306 - val_acc: 0.8654\n",
      "Epoch 8/10\n",
      "65889/65889 [==============================] - 4s 66us/step - loss: 0.3198 - acc: 0.8723 - val_loss: 0.3296 - val_acc: 0.8668\n",
      "Epoch 9/10\n",
      "65889/65889 [==============================] - 4s 66us/step - loss: 0.3197 - acc: 0.8731 - val_loss: 0.3284 - val_acc: 0.8677\n",
      "Epoch 10/10\n",
      "65889/65889 [==============================] - 4s 66us/step - loss: 0.3192 - acc: 0.8740 - val_loss: 0.3298 - val_acc: 0.8673\n"
     ]
    }
   ],
   "source": [
    "# Neural network\n",
    "model2 = Sequential() # creating model sequentially (each layer takes as input output of previous layer)\n",
    "model2.add(Dense(300, input_dim=len(test2), activation='relu')) # Dense: fully connected layer\n",
    "# model.add(Dense(50, activation='relu'))\n",
    "# model.add(Dense(20, activation='relu')) \n",
    "model2.add(Dense(1, activation='sigmoid')) # chiara: check what's the best activation function for single-value output\n",
    "model2.compile(loss='binary_crossentropy', optimizer='adam', metrics=['acc'])\n",
    "# training \n",
    "history = model2.fit(X_train_no_HGTD, y_train, epochs=10, batch_size=50, # it was 100 epochs\n",
    "                    validation_data = (X_test_no_HGTD,y_test)) # show accuracy on test data after every epoch"
   ]
  },
  {
   "cell_type": "code",
   "execution_count": 591,
   "metadata": {},
   "outputs": [],
   "source": [
    "# Prediction\n",
    "y_pred_test_no_HGTD = model2.predict(X_test_no_HGTD)\n",
    "y_pred_train_no_HGTD = model2.predict(X_train_no_HGTD)\n",
    "\n",
    "fpr_test_no_HGTD, tpr_test_no_HGTD, thresholds_test_no_HGTD = roc_curve(y_test, y_pred_test_no_HGTD)\n",
    "fpr_train_no_HGTD, tpr_train_no_HGTD, thresholds_train_no_HGTD = roc_curve(y_train, y_pred_train_no_HGTD)"
   ]
  },
  {
   "cell_type": "code",
   "execution_count": 595,
   "metadata": {
    "scrolled": true
   },
   "outputs": [
    {
     "name": "stderr",
     "output_type": "stream",
     "text": [
      "/opt/anaconda3/lib/python3.7/site-packages/ipykernel_launcher.py:10: RuntimeWarning: divide by zero encountered in true_divide\n",
      "  # Remove the CWD from sys.path while we load stuff.\n",
      "/opt/anaconda3/lib/python3.7/site-packages/ipykernel_launcher.py:11: RuntimeWarning: divide by zero encountered in true_divide\n",
      "  # This is added back by InteractiveShellApp.init_path()\n",
      "/opt/anaconda3/lib/python3.7/site-packages/ipykernel_launcher.py:29: RuntimeWarning: invalid value encountered in true_divide\n"
     ]
    },
    {
     "data": {
      "image/png": "[encoded data removed]",
      "text/plain": [
       "<Figure size 432x288 with 2 Axes>"
      ]
     },
     "metadata": {
      "needs_background": "light"
     },
     "output_type": "display_data"
    }
   ],
   "source": [
    "gs = gridspec.GridSpec(2, 1,\n",
    "                       height_ratios=[3,1],\n",
    "                       hspace=0.10)\n",
    "ax1 = plt.subplot(gs[0])\n",
    "\n",
    "plt.figure(1)\n",
    "plt.text(0.02, 0.75, r'$\\mathbf{ATLAS}$ Simulation Internal', size='large',transform=ax1.transAxes)\n",
    "plt.plot([0, 1], [0, 1], 'k--')\n",
    "#plt.plot(tpr_train_no_HGTD, 1./fpr_train_no_HGTD, label='train_no_HGTD')\n",
    "one_over_fpr_test_no_HGTD = 1./fpr_test_no_HGTD\n",
    "one_over_fpr_test = 1./fpr_test\n",
    "plt.plot(tpr_test_no_HGTD, one_over_fpr_test_no_HGTD, label='validation - ITK only')\n",
    "#plt.plot(tpr_train, 1./fpr_train, label='train')\n",
    "plt.plot(tpr_test, one_over_fpr_test, label='validation - HGTD')\n",
    "plt.ylabel('Light rejection')\n",
    "plt.title('ROC curve')\n",
    "plt.legend(loc='best')\n",
    "#plt.yscale('log')\n",
    "plt.xlim(0.55,1)\n",
    "plt.ylim(1,200)\n",
    "plt.grid(True,linestyle='--')\n",
    "plt.gca().set_xticklabels(['']*10)\n",
    "\n",
    "ax2 = plt.subplot(gs[1])\n",
    "plt.xlim(0.55,1)\n",
    "plt.ylim(0.6,1.4)\n",
    "#np.interp([0, 1, 1.5, 2.72, 3.14], xp, fp)\n",
    "one_over_fpr_test_plot = np.interp(tpr_test_no_HGTD, tpr_test, one_over_fpr_test)\n",
    "ljr_ratio = np.divide(one_over_fpr_test_plot, one_over_fpr_test_no_HGTD)\n",
    "plt.plot(tpr_test_no_HGTD, ljr_ratio)\n",
    "plt.grid(True,linestyle='--')\n",
    "plt.xlabel('B-jet efficiency')\n",
    "\n",
    "plt.show()"
   ]
  },
  {
   "cell_type": "code",
   "execution_count": null,
   "metadata": {},
   "outputs": [],
   "source": []
  },
  {
   "cell_type": "code",
   "execution_count": null,
   "metadata": {},
   "outputs": [],
   "source": []
  }
 ],
 "metadata": {
  "kernelspec": {
   "display_name": "Python 3",
   "language": "python",
   "name": "python3"
  },
  "language_info": {
   "codemirror_mode": {
    "name": "ipython",
    "version": 3
   },
   "file_extension": ".py",
   "mimetype": "text/x-python",
   "name": "python",
   "nbconvert_exporter": "python",
   "pygments_lexer": "ipython3",
   "version": "3.7.4"
  }
 },
 "nbformat": 4,
 "nbformat_minor": 2
}
